{
 "cells": [
  {
   "cell_type": "markdown",
   "id": "063f2472-c78a-4c9b-ad29-0cb5d2a8d6fd",
   "metadata": {},
   "source": [
    "# Clustering - Part 2"
   ]
  },
  {
   "cell_type": "markdown",
   "id": "8fb07c5c-675c-4801-8cdb-065544ec22a3",
   "metadata": {},
   "source": [
    "# Imports"
   ]
  },
  {
   "cell_type": "code",
   "execution_count": 1,
   "id": "15d653ef-a87e-4232-b0b5-d24c54ff2746",
   "metadata": {},
   "outputs": [],
   "source": [
    "import pandas as pd\n",
    "import numpy as np\n",
    "import matplotlib.pyplot as plt\n",
    "import seaborn as sns\n",
    "from sklearn.preprocessing import RobustScaler\n",
    "from sklearn.cluster import MiniBatchKMeans, AgglomerativeClustering\n",
    "from sklearn.metrics import silhouette_score"
   ]
  },
  {
   "cell_type": "code",
   "execution_count": 2,
   "id": "05dc8574-5bd3-4a4d-8640-2ecd8a697cd6",
   "metadata": {},
   "outputs": [],
   "source": [
    "sns.set_theme()"
   ]
  },
  {
   "cell_type": "markdown",
   "id": "931de659-9c0d-4f33-afae-0c1d17ac3dcb",
   "metadata": {},
   "source": [
    "# Data Preparation"
   ]
  },
  {
   "cell_type": "code",
   "execution_count": 3,
   "id": "5098ee52-ccaa-4900-abf6-ee68e149e6b8",
   "metadata": {},
   "outputs": [],
   "source": [
    "df3 = pd.read_csv(\"df3.csv\")"
   ]
  },
  {
   "cell_type": "code",
   "execution_count": 4,
   "id": "2a7269ac-80ba-4ef8-a6a5-90d281b1bb5b",
   "metadata": {},
   "outputs": [],
   "source": [
    "X = df3.drop(columns=[\"CustomerID\"])\n",
    "scaler = RobustScaler()\n",
    "X = scaler.fit_transform(X)\n",
    "X = pd.DataFrame(X, columns = df3.columns[1:])\n",
    "y = df3[\"CustomerID\"]"
   ]
  },
  {
   "cell_type": "code",
   "execution_count": 5,
   "id": "126ace08-06e4-4f95-804d-3090423de9b5",
   "metadata": {},
   "outputs": [
    {
     "data": {
      "text/html": [
       "<div>\n",
       "<style scoped>\n",
       "    .dataframe tbody tr th:only-of-type {\n",
       "        vertical-align: middle;\n",
       "    }\n",
       "\n",
       "    .dataframe tbody tr th {\n",
       "        vertical-align: top;\n",
       "    }\n",
       "\n",
       "    .dataframe thead th {\n",
       "        text-align: right;\n",
       "    }\n",
       "</style>\n",
       "<table border=\"1\" class=\"dataframe\">\n",
       "  <thead>\n",
       "    <tr style=\"text-align: right;\">\n",
       "      <th></th>\n",
       "      <th>Recency</th>\n",
       "      <th>Frequency</th>\n",
       "      <th>AverageTicket</th>\n",
       "      <th>Returns</th>\n",
       "    </tr>\n",
       "  </thead>\n",
       "  <tbody>\n",
       "    <tr>\n",
       "      <th>0</th>\n",
       "      <td>2.847162</td>\n",
       "      <td>10.333333</td>\n",
       "      <td>-0.483122</td>\n",
       "      <td>1.0</td>\n",
       "    </tr>\n",
       "    <tr>\n",
       "      <th>1</th>\n",
       "      <td>-0.122271</td>\n",
       "      <td>0.333333</td>\n",
       "      <td>2.500186</td>\n",
       "      <td>7.0</td>\n",
       "    </tr>\n",
       "    <tr>\n",
       "      <th>2</th>\n",
       "      <td>0.436681</td>\n",
       "      <td>1.000000</td>\n",
       "      <td>-0.381893</td>\n",
       "      <td>0.0</td>\n",
       "    </tr>\n",
       "    <tr>\n",
       "      <th>3</th>\n",
       "      <td>-0.174672</td>\n",
       "      <td>3.000000</td>\n",
       "      <td>0.404194</td>\n",
       "      <td>4.0</td>\n",
       "    </tr>\n",
       "    <tr>\n",
       "      <th>4</th>\n",
       "      <td>-0.331878</td>\n",
       "      <td>4.333333</td>\n",
       "      <td>0.137684</td>\n",
       "      <td>6.0</td>\n",
       "    </tr>\n",
       "  </tbody>\n",
       "</table>\n",
       "</div>"
      ],
      "text/plain": [
       "    Recency  Frequency  AverageTicket  Returns\n",
       "0  2.847162  10.333333      -0.483122      1.0\n",
       "1 -0.122271   0.333333       2.500186      7.0\n",
       "2  0.436681   1.000000      -0.381893      0.0\n",
       "3 -0.174672   3.000000       0.404194      4.0\n",
       "4 -0.331878   4.333333       0.137684      6.0"
      ]
     },
     "execution_count": 5,
     "metadata": {},
     "output_type": "execute_result"
    }
   ],
   "source": [
    "X.head()"
   ]
  },
  {
   "cell_type": "code",
   "execution_count": 6,
   "id": "08a84950-3758-4ac3-bd9b-1603829935d0",
   "metadata": {},
   "outputs": [
    {
     "data": {
      "text/plain": [
       "0    17850\n",
       "1    13047\n",
       "2    13748\n",
       "3    15291\n",
       "4    14688\n",
       "Name: CustomerID, dtype: int64"
      ]
     },
     "execution_count": 6,
     "metadata": {},
     "output_type": "execute_result"
    }
   ],
   "source": [
    "y[:5]"
   ]
  },
  {
   "cell_type": "markdown",
   "id": "96b2bba1-6a14-4c4c-957d-02cd31ef09c3",
   "metadata": {},
   "source": [
    "# Model Training"
   ]
  },
  {
   "cell_type": "markdown",
   "id": "94dcebbf-9aef-4b21-ba41-36fb82a12f36",
   "metadata": {},
   "source": [
    "## K-Means"
   ]
  },
  {
   "cell_type": "code",
   "execution_count": 7,
   "id": "f8cad292-8c38-445b-b7ff-f450f4fea318",
   "metadata": {},
   "outputs": [],
   "source": [
    "kmeans_model = MiniBatchKMeans(n_clusters=4, random_state=1)\n",
    "kmeans_model.fit(X)\n",
    "df3[\"KmeansCluster\"] = kmeans_model.predict(X)"
   ]
  },
  {
   "cell_type": "markdown",
   "id": "3ec2ae38-55b3-41f7-9729-758034d60eca",
   "metadata": {},
   "source": [
    "## Hierarchical Clustering"
   ]
  },
  {
   "cell_type": "code",
   "execution_count": 9,
   "id": "f2eb7da4-423c-4a60-bc77-c7f2c94294dc",
   "metadata": {},
   "outputs": [],
   "source": [
    "hc_model = AgglomerativeClustering(n_clusters=3, linkage=\"ward\") \n",
    "df3[\"HierarchicalCluster\"] = hc_model.fit_predict(X)"
   ]
  },
  {
   "cell_type": "code",
   "execution_count": null,
   "id": "bdb46c88-4c9f-4832-a544-aadf5d6e2362",
   "metadata": {},
   "outputs": [],
   "source": []
  },
  {
   "cell_type": "code",
   "execution_count": null,
   "id": "5f5aed96-4a28-4e7d-a3dc-35cdb491592e",
   "metadata": {},
   "outputs": [],
   "source": []
  },
  {
   "cell_type": "code",
   "execution_count": null,
   "id": "8cca9c95-8dd9-43cd-adde-30238b4c367e",
   "metadata": {},
   "outputs": [],
   "source": []
  }
 ],
 "metadata": {
  "kernelspec": {
   "display_name": "Python 3 (ipykernel)",
   "language": "python",
   "name": "python3"
  },
  "language_info": {
   "codemirror_mode": {
    "name": "ipython",
    "version": 3
   },
   "file_extension": ".py",
   "mimetype": "text/x-python",
   "name": "python",
   "nbconvert_exporter": "python",
   "pygments_lexer": "ipython3",
   "version": "3.9.7"
  }
 },
 "nbformat": 4,
 "nbformat_minor": 5
}
