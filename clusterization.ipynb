{
 "cells": [
  {
   "cell_type": "markdown",
   "id": "6989aaa7-e1e6-4894-ba04-7a6c692f5c41",
   "metadata": {},
   "source": [
    "# Project: Customer Clusterization"
   ]
  },
  {
   "cell_type": "markdown",
   "id": "27b7f589-5fbe-490c-98e0-9e05046fe06c",
   "metadata": {},
   "source": [
    "# Imports"
   ]
  },
  {
   "cell_type": "code",
   "execution_count": 1,
   "id": "f0ae4a9a-1cae-423e-9d0e-791981a1a3b5",
   "metadata": {},
   "outputs": [],
   "source": [
    "import pandas as pd\n",
    "import numpy as np\n",
    "import matplotlib.pyplot as plt\n",
    "import seaborn as sns"
   ]
  },
  {
   "cell_type": "code",
   "execution_count": 2,
   "id": "90d8b872-82cd-450f-865f-e1644f562ae8",
   "metadata": {},
   "outputs": [],
   "source": [
    "sns.set_theme()"
   ]
  },
  {
   "cell_type": "markdown",
   "id": "2b3f8fee-b4cb-4fbe-bb91-480b77b39e42",
   "metadata": {},
   "source": [
    "# Data Preparation"
   ]
  },
  {
   "cell_type": "code",
   "execution_count": 3,
   "id": "8f1d13e7-6d67-4bfa-ba9c-f5e6dbdf430c",
   "metadata": {},
   "outputs": [],
   "source": [
    "df_raw = pd.read_csv(\"data.csv\", low_memory=False)"
   ]
  },
  {
   "cell_type": "code",
   "execution_count": 4,
   "id": "d10ce4bf-a13a-4983-b6ce-942c7f09b797",
   "metadata": {},
   "outputs": [],
   "source": [
    "df1 = df_raw.copy()"
   ]
  },
  {
   "cell_type": "code",
   "execution_count": 5,
   "id": "66afd1f8-9b01-45e1-8a87-c541aa246812",
   "metadata": {},
   "outputs": [
    {
     "data": {
      "text/html": [
       "<div>\n",
       "<style scoped>\n",
       "    .dataframe tbody tr th:only-of-type {\n",
       "        vertical-align: middle;\n",
       "    }\n",
       "\n",
       "    .dataframe tbody tr th {\n",
       "        vertical-align: top;\n",
       "    }\n",
       "\n",
       "    .dataframe thead th {\n",
       "        text-align: right;\n",
       "    }\n",
       "</style>\n",
       "<table border=\"1\" class=\"dataframe\">\n",
       "  <thead>\n",
       "    <tr style=\"text-align: right;\">\n",
       "      <th></th>\n",
       "      <th>InvoiceNo</th>\n",
       "      <th>StockCode</th>\n",
       "      <th>Description</th>\n",
       "      <th>Quantity</th>\n",
       "      <th>InvoiceDate</th>\n",
       "      <th>UnitPrice</th>\n",
       "      <th>CustomerID</th>\n",
       "      <th>Country</th>\n",
       "    </tr>\n",
       "  </thead>\n",
       "  <tbody>\n",
       "    <tr>\n",
       "      <th>0</th>\n",
       "      <td>536365</td>\n",
       "      <td>85123A</td>\n",
       "      <td>WHITE HANGING HEART T-LIGHT HOLDER</td>\n",
       "      <td>6</td>\n",
       "      <td>2010-12-01 08:26:00</td>\n",
       "      <td>2.55</td>\n",
       "      <td>17850.0</td>\n",
       "      <td>United Kingdom</td>\n",
       "    </tr>\n",
       "    <tr>\n",
       "      <th>1</th>\n",
       "      <td>536365</td>\n",
       "      <td>71053</td>\n",
       "      <td>WHITE METAL LANTERN</td>\n",
       "      <td>6</td>\n",
       "      <td>2010-12-01 08:26:00</td>\n",
       "      <td>3.39</td>\n",
       "      <td>17850.0</td>\n",
       "      <td>United Kingdom</td>\n",
       "    </tr>\n",
       "    <tr>\n",
       "      <th>2</th>\n",
       "      <td>536365</td>\n",
       "      <td>84406B</td>\n",
       "      <td>CREAM CUPID HEARTS COAT HANGER</td>\n",
       "      <td>8</td>\n",
       "      <td>2010-12-01 08:26:00</td>\n",
       "      <td>2.75</td>\n",
       "      <td>17850.0</td>\n",
       "      <td>United Kingdom</td>\n",
       "    </tr>\n",
       "    <tr>\n",
       "      <th>3</th>\n",
       "      <td>536365</td>\n",
       "      <td>84029G</td>\n",
       "      <td>KNITTED UNION FLAG HOT WATER BOTTLE</td>\n",
       "      <td>6</td>\n",
       "      <td>2010-12-01 08:26:00</td>\n",
       "      <td>3.39</td>\n",
       "      <td>17850.0</td>\n",
       "      <td>United Kingdom</td>\n",
       "    </tr>\n",
       "    <tr>\n",
       "      <th>4</th>\n",
       "      <td>536365</td>\n",
       "      <td>84029E</td>\n",
       "      <td>RED WOOLLY HOTTIE WHITE HEART.</td>\n",
       "      <td>6</td>\n",
       "      <td>2010-12-01 08:26:00</td>\n",
       "      <td>3.39</td>\n",
       "      <td>17850.0</td>\n",
       "      <td>United Kingdom</td>\n",
       "    </tr>\n",
       "  </tbody>\n",
       "</table>\n",
       "</div>"
      ],
      "text/plain": [
       "  InvoiceNo StockCode                          Description  Quantity  \\\n",
       "0    536365    85123A   WHITE HANGING HEART T-LIGHT HOLDER         6   \n",
       "1    536365     71053                  WHITE METAL LANTERN         6   \n",
       "2    536365    84406B       CREAM CUPID HEARTS COAT HANGER         8   \n",
       "3    536365    84029G  KNITTED UNION FLAG HOT WATER BOTTLE         6   \n",
       "4    536365    84029E       RED WOOLLY HOTTIE WHITE HEART.         6   \n",
       "\n",
       "           InvoiceDate UnitPrice  CustomerID         Country  \n",
       "0  2010-12-01 08:26:00      2.55     17850.0  United Kingdom  \n",
       "1  2010-12-01 08:26:00      3.39     17850.0  United Kingdom  \n",
       "2  2010-12-01 08:26:00      2.75     17850.0  United Kingdom  \n",
       "3  2010-12-01 08:26:00      3.39     17850.0  United Kingdom  \n",
       "4  2010-12-01 08:26:00      3.39     17850.0  United Kingdom  "
      ]
     },
     "execution_count": 5,
     "metadata": {},
     "output_type": "execute_result"
    }
   ],
   "source": [
    "df1.head()"
   ]
  },
  {
   "cell_type": "code",
   "execution_count": 6,
   "id": "a4b9d26c-d4f9-4ef8-bac0-927b67d9a6c0",
   "metadata": {},
   "outputs": [
    {
     "data": {
      "text/plain": [
       "InvoiceNo       object\n",
       "StockCode       object\n",
       "Description     object\n",
       "Quantity         int64\n",
       "InvoiceDate     object\n",
       "UnitPrice       object\n",
       "CustomerID     float64\n",
       "Country         object\n",
       "dtype: object"
      ]
     },
     "execution_count": 6,
     "metadata": {},
     "output_type": "execute_result"
    }
   ],
   "source": [
    "df1.dtypes"
   ]
  },
  {
   "cell_type": "code",
   "execution_count": 7,
   "id": "b18254cf-18e7-4abe-964e-48c19c4887c4",
   "metadata": {},
   "outputs": [
    {
     "data": {
      "text/plain": [
       "United Kingdom    495478\n",
       "Germany             9495\n",
       "France              8557\n",
       "EIRE                8196\n",
       "Spain               2533\n",
       "Name: Country, dtype: int64"
      ]
     },
     "execution_count": 7,
     "metadata": {},
     "output_type": "execute_result"
    }
   ],
   "source": [
    "df1[\"Country\"].value_counts().head()"
   ]
  },
  {
   "cell_type": "code",
   "execution_count": 8,
   "id": "7222bc38-eac6-47eb-8bfd-6aecb46e83a0",
   "metadata": {},
   "outputs": [],
   "source": [
    "# Since the UK is by far the most common country, we'll be working only with UK customers for now\n",
    "df1 = df1.copy()[df1[\"Country\"] == \"United Kingdom\"]"
   ]
  },
  {
   "cell_type": "code",
   "execution_count": 9,
   "id": "075463e2-3ef8-434b-aa85-b2ef11db97f9",
   "metadata": {},
   "outputs": [],
   "source": [
    "# Filtering any order without a customer ID\n",
    "df1 = df1.dropna(axis=\"index\", subset=[\"CustomerID\"])"
   ]
  },
  {
   "cell_type": "code",
   "execution_count": 10,
   "id": "c0efadf0-f477-4a48-a2a8-ca0b5bdbcb7e",
   "metadata": {},
   "outputs": [
    {
     "data": {
      "text/plain": [
       "22423     148\n",
       "M         134\n",
       "D          74\n",
       "22960      69\n",
       "22720      60\n",
       "         ... \n",
       "21248       1\n",
       "85049E      1\n",
       "21206       1\n",
       "85199L      1\n",
       "23843       1\n",
       "Name: StockCode, Length: 1756, dtype: int64"
      ]
     },
     "execution_count": 10,
     "metadata": {},
     "output_type": "execute_result"
    }
   ],
   "source": [
    "df1.loc[df1[\"Quantity\"] < 0 , \"StockCode\"].value_counts()"
   ]
  },
  {
   "cell_type": "markdown",
   "id": "5dbe3d63-2525-416e-bf70-adeb89fb3d61",
   "metadata": {},
   "source": [
    "There appear to be three cases where the quantity is negative: The stock code is \"D\" indicating a discount, \"M\" possibly indicating a manual change, and a sequence of numbers, representing a returned product or cancelled purchase. Such entries also seem to have an invoice number starting with \"C\".\n",
    "\n",
    "For the purposes of this customer fidelity clusterization project, the former two will be ignored when counting the total number of purchases, while returns will be subtracted. The monetary value of all transactions will be added, negative or positive."
   ]
  },
  {
   "cell_type": "code",
   "execution_count": 11,
   "id": "debff558-3b60-45db-b31c-e4c436668779",
   "metadata": {},
   "outputs": [],
   "source": [
    "# Drop columns that won't be used in this analysis.\n",
    "df1 = df1.drop(columns=[\"Description\", \"Country\"])"
   ]
  },
  {
   "cell_type": "code",
   "execution_count": 12,
   "id": "673a29db-8a84-4154-ae91-4b7d113fdfb5",
   "metadata": {},
   "outputs": [],
   "source": [
    "df1[\"InvoiceDate\"] = df1[\"InvoiceDate\"].astype(\"datetime64\")\n",
    "df1[\"UnitPrice\"] = df1[\"UnitPrice\"].str.replace(pat=\",\", repl=\"\") # Remove the thousands separator\n",
    "df1[\"UnitPrice\"] = df1[\"UnitPrice\"].astype(float)\n",
    "df1[\"CustomerID\"] = df1[\"CustomerID\"].astype(int)"
   ]
  },
  {
   "cell_type": "code",
   "execution_count": 13,
   "id": "84c2f67a-02d5-4544-9328-4df26b61f73e",
   "metadata": {},
   "outputs": [
    {
     "data": {
      "text/plain": [
       "InvoiceNo              object\n",
       "StockCode              object\n",
       "Quantity                int64\n",
       "InvoiceDate    datetime64[ns]\n",
       "UnitPrice             float64\n",
       "CustomerID              int64\n",
       "dtype: object"
      ]
     },
     "execution_count": 13,
     "metadata": {},
     "output_type": "execute_result"
    }
   ],
   "source": [
    "df1.dtypes"
   ]
  },
  {
   "cell_type": "markdown",
   "id": "f8e7af64-db64-4df1-b491-43ce25344b0b",
   "metadata": {},
   "source": [
    "# Exploratory Data Analysis"
   ]
  },
  {
   "cell_type": "code",
   "execution_count": 14,
   "id": "35c9f8fa-213b-4235-82dc-f3ca0a2308dc",
   "metadata": {},
   "outputs": [
    {
     "data": {
      "text/html": [
       "<div>\n",
       "<style scoped>\n",
       "    .dataframe tbody tr th:only-of-type {\n",
       "        vertical-align: middle;\n",
       "    }\n",
       "\n",
       "    .dataframe tbody tr th {\n",
       "        vertical-align: top;\n",
       "    }\n",
       "\n",
       "    .dataframe thead th {\n",
       "        text-align: right;\n",
       "    }\n",
       "</style>\n",
       "<table border=\"1\" class=\"dataframe\">\n",
       "  <thead>\n",
       "    <tr style=\"text-align: right;\">\n",
       "      <th></th>\n",
       "      <th>Quantity</th>\n",
       "      <th>UnitPrice</th>\n",
       "      <th>CustomerID</th>\n",
       "    </tr>\n",
       "  </thead>\n",
       "  <tbody>\n",
       "    <tr>\n",
       "      <th>count</th>\n",
       "      <td>361878.000000</td>\n",
       "      <td>361878.000000</td>\n",
       "      <td>361878.000000</td>\n",
       "    </tr>\n",
       "    <tr>\n",
       "      <th>mean</th>\n",
       "      <td>11.077029</td>\n",
       "      <td>3.256007</td>\n",
       "      <td>15547.871368</td>\n",
       "    </tr>\n",
       "    <tr>\n",
       "      <th>std</th>\n",
       "      <td>263.129266</td>\n",
       "      <td>70.654731</td>\n",
       "      <td>1594.402590</td>\n",
       "    </tr>\n",
       "    <tr>\n",
       "      <th>min</th>\n",
       "      <td>-80995.000000</td>\n",
       "      <td>0.000000</td>\n",
       "      <td>12346.000000</td>\n",
       "    </tr>\n",
       "    <tr>\n",
       "      <th>25%</th>\n",
       "      <td>2.000000</td>\n",
       "      <td>1.250000</td>\n",
       "      <td>14194.000000</td>\n",
       "    </tr>\n",
       "    <tr>\n",
       "      <th>50%</th>\n",
       "      <td>4.000000</td>\n",
       "      <td>1.950000</td>\n",
       "      <td>15514.000000</td>\n",
       "    </tr>\n",
       "    <tr>\n",
       "      <th>75%</th>\n",
       "      <td>12.000000</td>\n",
       "      <td>3.750000</td>\n",
       "      <td>16931.000000</td>\n",
       "    </tr>\n",
       "    <tr>\n",
       "      <th>max</th>\n",
       "      <td>80995.000000</td>\n",
       "      <td>38970.000000</td>\n",
       "      <td>18287.000000</td>\n",
       "    </tr>\n",
       "  </tbody>\n",
       "</table>\n",
       "</div>"
      ],
      "text/plain": [
       "            Quantity      UnitPrice     CustomerID\n",
       "count  361878.000000  361878.000000  361878.000000\n",
       "mean       11.077029       3.256007   15547.871368\n",
       "std       263.129266      70.654731    1594.402590\n",
       "min    -80995.000000       0.000000   12346.000000\n",
       "25%         2.000000       1.250000   14194.000000\n",
       "50%         4.000000       1.950000   15514.000000\n",
       "75%        12.000000       3.750000   16931.000000\n",
       "max     80995.000000   38970.000000   18287.000000"
      ]
     },
     "execution_count": 14,
     "metadata": {},
     "output_type": "execute_result"
    }
   ],
   "source": [
    "df1.describe()"
   ]
  },
  {
   "cell_type": "code",
   "execution_count": 15,
   "id": "8cbec448-6aa0-4ae1-bc39-2c7d76d6e11e",
   "metadata": {},
   "outputs": [
    {
     "data": {
      "image/png": "[encoded data removed]",
      "text/plain": [
       "<Figure size 432x288 with 1 Axes>"
      ]
     },
     "metadata": {},
     "output_type": "display_data"
    }
   ],
   "source": [
    "plt.hist(df1[\"UnitPrice\"][ df1[\"UnitPrice\"] < 20 ]);"
   ]
  },
  {
   "cell_type": "code",
   "execution_count": 16,
   "id": "4d532d79-5b0f-41f5-a6d4-f317a2966e49",
   "metadata": {},
   "outputs": [
    {
     "name": "stdout",
     "output_type": "stream",
     "text": [
      "361028 out of 361878 purchases were under $20, or 99.77% of the total.\n"
     ]
    }
   ],
   "source": [
    "count1 = df1[\"InvoiceNo\"][df1[\"UnitPrice\"] < 20].count()\n",
    "count2 = df1[\"InvoiceNo\"].count()\n",
    "print(f\"{count1} out of {count2} purchases were under $20, or {count1/count2:.2%} of the total.\")"
   ]
  },
  {
   "cell_type": "markdown",
   "id": "84240f5b-0ee3-4dd8-8695-5c78199afeca",
   "metadata": {},
   "source": [
    "The vast majority of the purchases made on this database were of small value, as seen on the histogram."
   ]
  },
  {
   "cell_type": "code",
   "execution_count": 17,
   "id": "0cda7184-76d7-4e0e-b219-f86cd425fd20",
   "metadata": {},
   "outputs": [
    {
     "data": {
      "text/plain": [
       "41.0"
      ]
     },
     "execution_count": 17,
     "metadata": {},
     "output_type": "execute_result"
    }
   ],
   "source": [
    "df1[\"CustomerID\"].value_counts().median()"
   ]
  },
  {
   "cell_type": "code",
   "execution_count": 18,
   "id": "1f807919-1988-4e16-96df-f1e431e9cccb",
   "metadata": {},
   "outputs": [
    {
     "name": "stdout",
     "output_type": "stream",
     "text": [
      "1732 out of 3950 customers made more than 50 purchases, or 43.85% of the total.\n"
     ]
    }
   ],
   "source": [
    "count1 = (df1[\"CustomerID\"].value_counts()>50).sum()\n",
    "count2 = df1[\"CustomerID\"].nunique()\n",
    "print(f\"{count1} out of {count2} customers made more than 50 purchases, or {count1/count2:.2%} of the total.\")"
   ]
  },
  {
   "cell_type": "markdown",
   "id": "1345f71a-471a-4c24-8a83-175560a1235d",
   "metadata": {},
   "source": [
    "In contrast, there's a a more even distribution of number of purchases, with many customers having made over 50 purchases in total."
   ]
  },
  {
   "cell_type": "markdown",
   "id": "99c4ec0f-fabe-460e-ab50-ae9e912038b4",
   "metadata": {},
   "source": [
    "# Feature Engineering"
   ]
  },
  {
   "cell_type": "markdown",
   "id": "e0026d9a-f4f0-49be-805a-2b4bebc0a255",
   "metadata": {},
   "source": [
    "We'll create a new dataframe where each row represents a customer."
   ]
  },
  {
   "cell_type": "code",
   "execution_count": 19,
   "id": "33f48f3d-dfa1-4f24-a572-631a39e3ddbd",
   "metadata": {},
   "outputs": [],
   "source": [
    "df2 = pd.DataFrame(df1[\"CustomerID\"].unique(), columns=[\"CustomerID\"])"
   ]
  },
  {
   "cell_type": "markdown",
   "id": "4fe363eb-f2db-4882-b7e3-481623b910af",
   "metadata": {},
   "source": [
    "The first feature we'll introduce is the *Total Revenue*, the sum of all the purchases the customer made so far. "
   ]
  },
  {
   "cell_type": "code",
   "execution_count": 20,
   "id": "f9cb0e32-723c-4bb2-9e58-96a88e9dec74",
   "metadata": {},
   "outputs": [],
   "source": [
    "# First, we sum the amount of money spent on each purchase\n",
    "df1[\"Subtotal\"] = df1[\"Quantity\"] * df1[\"UnitPrice\"]\n",
    "# Then we group the purchases from each customer and add it to the customer dataframe\n",
    "aux = df1[[\"CustomerID\", \"Subtotal\"]].groupby(\"CustomerID\").sum().reset_index()\n",
    "aux.columns=[\"CustomerID\",\"TotalRevenue\"]\n",
    "if \"TotalRevenue\" in df2.columns:\n",
    "    df2 = df2.drop(columns=[\"TotalRevenue\"]) # In case there's already a column with that name, to avoid duplocation\n",
    "df2 = pd.merge(df2, aux, on=\"CustomerID\", how=\"left\")"
   ]
  },
  {
   "cell_type": "markdown",
   "id": "d02beea5-1f1e-449c-abaf-550ae64a5eeb",
   "metadata": {},
   "source": [
    "Another feature will be *Recency*, that is, the time since the last purchase."
   ]
  },
  {
   "cell_type": "code",
   "execution_count": 21,
   "id": "4264b056-f7c3-44e3-8bc7-eea71c24bb3e",
   "metadata": {},
   "outputs": [],
   "source": [
    "# First, we'll use the last invoice date as the current time\n",
    "curr_time = df1[\"InvoiceDate\"].max()\n",
    "df1[\"Recency\"] = (curr_time - df1[\"InvoiceDate\"]).dt.days\n",
    "# Then the data for each customer is added to the dataframe\n",
    "# We're only counting purchases, that is, transaction with value above zero\n",
    "aux = df1[[\"Recency\", \"CustomerID\"]][df1[\"Quantity\"] > 0].groupby(\"CustomerID\").min().reset_index()\n",
    "if \"Recency\" in df2.columns:\n",
    "    df2 = df2.drop(columns=[\"Recency\"]) # In case there's already a column with that name, to avoid duplocation\n",
    "df2 = pd.merge(df2, aux, on=\"CustomerID\", how=\"left\")"
   ]
  },
  {
   "cell_type": "markdown",
   "id": "59316276-363e-4bcb-b37b-e3234d712f52",
   "metadata": {},
   "source": [
    "Finally, *Frequency* will be the total amount of purchases the customer made during the recorded period."
   ]
  },
  {
   "cell_type": "code",
   "execution_count": 22,
   "id": "245dd4b9-37e5-49f4-8a24-046c54385b25",
   "metadata": {},
   "outputs": [],
   "source": [
    "# We'll get the number of purchases, and subtract the number of returns\n",
    "aux1 = df1[[\"CustomerID\", \"InvoiceNo\"]][df1[\"Quantity\"] > 0].groupby(\"CustomerID\").nunique()\n",
    "aux2 = df1[[\"CustomerID\", \"InvoiceNo\"]][(df1[\"StockCode\"].str.isdigit()) & (df1[\"Quantity\"] < 0)].groupby(\"CustomerID\").nunique()\n",
    "aux = aux1.sub(aux2, fill_value=0)\n",
    "aux = aux.reset_index()\n",
    "aux.columns = [\"CustomerID\", \"Frequency\"]\n",
    "if \"Frequency\" in df2.columns:\n",
    "    df2 = df2.drop(columns=[\"Frequency\"]) # In case there's already a column with that name, to avoid duplocation\n",
    "df2 = pd.merge(df2, aux, on=\"CustomerID\", how=\"left\")"
   ]
  },
  {
   "cell_type": "markdown",
   "id": "b5798d46-6d1e-48b3-861f-998942255a7e",
   "metadata": {},
   "source": [
    "We will use those features for now. The shape of the data can be visualized, so that we can see if it needs to be scaled or remapped."
   ]
  },
  {
   "cell_type": "code",
   "execution_count": 71,
   "id": "75b44f5d-430a-4dd1-948b-3d64a0b9ea89",
   "metadata": {},
   "outputs": [],
   "source": [
    "#Removing row with invalid data\n",
    "df2 = df2.dropna(axis=\"index\")\n",
    "#Picks only customers with positive revenue and frequency\n",
    "df2 = df2[df2[\"TotalRevenue\"].gt(0) & df2[\"Frequency\"].gt(0)]"
   ]
  },
  {
   "cell_type": "code",
   "execution_count": 72,
   "id": "f96c1713-35f2-47b4-958e-27d9a055bc0f",
   "metadata": {},
   "outputs": [
    {
     "data": {
      "text/plain": [
       "<AxesSubplot:xlabel='Frequency', ylabel='Count'>"
      ]
     },
     "execution_count": 72,
     "metadata": {},
     "output_type": "execute_result"
    },
    {
     "data": {
      "image/png": "[encoded data removed]",
      "text/plain": [
       "<Figure size 1296x360 with 3 Axes>"
      ]
     },
     "metadata": {},
     "output_type": "display_data"
    }
   ],
   "source": [
    "fig, ax = plt.subplots(figsize=(18,5))\n",
    "ax1 = plt.subplot(1,3,1)\n",
    "sns.histplot(df2[\"TotalRevenue\"], binwidth=10000, ax=ax1)\n",
    "ax2 = plt.subplot(1,3,2)\n",
    "sns.histplot(df2[\"Recency\"], ax=ax2)\n",
    "ax3 = plt.subplot(1,3,3)\n",
    "sns.histplot(df2[\"Frequency\"], ax=ax3)"
   ]
  },
  {
   "cell_type": "markdown",
   "id": "c03abd22-8ce6-49ef-ac37-00be8c7fe5a9",
   "metadata": {},
   "source": [
    "Since the Total Revenue and Frequency metrics seem very concentrated on low values, so we'll try using the natural logarithm of the data."
   ]
  },
  {
   "cell_type": "code",
   "execution_count": 79,
   "id": "9d5a066f-cce1-4620-abfa-3eba558f0149",
   "metadata": {},
   "outputs": [],
   "source": [
    "df2[\"TotalRevenue\"] = np.log(df2[\"TotalRevenue\"])\n",
    "df2[\"Frequency\"] = np.log(df2[\"Frequency\"])"
   ]
  },
  {
   "cell_type": "code",
   "execution_count": 81,
   "id": "ed749093-ec28-4621-9375-d4a6876615b9",
   "metadata": {},
   "outputs": [
    {
     "data": {
      "text/plain": [
       "<AxesSubplot:xlabel='Frequency', ylabel='Count'>"
      ]
     },
     "execution_count": 81,
     "metadata": {},
     "output_type": "execute_result"
    },
    {
     "data": {
      "image/png": "[encoded data removed]",
      "text/plain": [
       "<Figure size 1296x360 with 3 Axes>"
      ]
     },
     "metadata": {},
     "output_type": "display_data"
    }
   ],
   "source": [
    "fig, ax = plt.subplots(figsize=(18,5))\n",
    "ax1 = plt.subplot(1,3,1)\n",
    "sns.histplot(df2[\"TotalRevenue\"], ax=ax1)\n",
    "ax2 = plt.subplot(1,3,2)\n",
    "sns.histplot(df2[\"Recency\"], ax=ax2)\n",
    "ax3 = plt.subplot(1,3,3)\n",
    "sns.histplot(df2[\"Frequency\"], ax=ax3)"
   ]
  },
  {
   "cell_type": "code",
   "execution_count": 73,
   "id": "1300cdd1-1686-4a9b-8a12-28a900d39f0c",
   "metadata": {},
   "outputs": [
    {
     "data": {
      "text/html": [
       "<div>\n",
       "<style scoped>\n",
       "    .dataframe tbody tr th:only-of-type {\n",
       "        vertical-align: middle;\n",
       "    }\n",
       "\n",
       "    .dataframe tbody tr th {\n",
       "        vertical-align: top;\n",
       "    }\n",
       "\n",
       "    .dataframe thead th {\n",
       "        text-align: right;\n",
       "    }\n",
       "</style>\n",
       "<table border=\"1\" class=\"dataframe\">\n",
       "  <thead>\n",
       "    <tr style=\"text-align: right;\">\n",
       "      <th></th>\n",
       "      <th>CustomerID</th>\n",
       "      <th>TotalRevenue</th>\n",
       "      <th>Recency</th>\n",
       "      <th>Frequency</th>\n",
       "    </tr>\n",
       "  </thead>\n",
       "  <tbody>\n",
       "    <tr>\n",
       "      <th>count</th>\n",
       "      <td>3675.000000</td>\n",
       "      <td>3675.000000</td>\n",
       "      <td>3675.000000</td>\n",
       "      <td>3675.000000</td>\n",
       "    </tr>\n",
       "    <tr>\n",
       "      <th>mean</th>\n",
       "      <td>15576.952925</td>\n",
       "      <td>1804.197505</td>\n",
       "      <td>87.288163</td>\n",
       "      <td>3.768435</td>\n",
       "    </tr>\n",
       "    <tr>\n",
       "      <th>std</th>\n",
       "      <td>1572.195678</td>\n",
       "      <td>6776.994063</td>\n",
       "      <td>97.507363</td>\n",
       "      <td>6.308481</td>\n",
       "    </tr>\n",
       "    <tr>\n",
       "      <th>min</th>\n",
       "      <td>12747.000000</td>\n",
       "      <td>2.900000</td>\n",
       "      <td>0.000000</td>\n",
       "      <td>1.000000</td>\n",
       "    </tr>\n",
       "    <tr>\n",
       "      <th>25%</th>\n",
       "      <td>14219.500000</td>\n",
       "      <td>297.535000</td>\n",
       "      <td>16.000000</td>\n",
       "      <td>1.000000</td>\n",
       "    </tr>\n",
       "    <tr>\n",
       "      <th>50%</th>\n",
       "      <td>15589.000000</td>\n",
       "      <td>657.230000</td>\n",
       "      <td>45.000000</td>\n",
       "      <td>2.000000</td>\n",
       "    </tr>\n",
       "    <tr>\n",
       "      <th>75%</th>\n",
       "      <td>16928.500000</td>\n",
       "      <td>1621.330000</td>\n",
       "      <td>130.500000</td>\n",
       "      <td>4.000000</td>\n",
       "    </tr>\n",
       "    <tr>\n",
       "      <th>max</th>\n",
       "      <td>18287.000000</td>\n",
       "      <td>256438.490000</td>\n",
       "      <td>373.000000</td>\n",
       "      <td>200.000000</td>\n",
       "    </tr>\n",
       "  </tbody>\n",
       "</table>\n",
       "</div>"
      ],
      "text/plain": [
       "         CustomerID   TotalRevenue      Recency    Frequency\n",
       "count   3675.000000    3675.000000  3675.000000  3675.000000\n",
       "mean   15576.952925    1804.197505    87.288163     3.768435\n",
       "std     1572.195678    6776.994063    97.507363     6.308481\n",
       "min    12747.000000       2.900000     0.000000     1.000000\n",
       "25%    14219.500000     297.535000    16.000000     1.000000\n",
       "50%    15589.000000     657.230000    45.000000     2.000000\n",
       "75%    16928.500000    1621.330000   130.500000     4.000000\n",
       "max    18287.000000  256438.490000   373.000000   200.000000"
      ]
     },
     "execution_count": 73,
     "metadata": {},
     "output_type": "execute_result"
    }
   ],
   "source": [
    "df2.describe()"
   ]
  },
  {
   "cell_type": "code",
   "execution_count": 70,
   "id": "6b8f955f-9e26-48fd-a3e6-2930cd51c35f",
   "metadata": {},
   "outputs": [
    {
     "data": {
      "text/html": [
       "<div>\n",
       "<style scoped>\n",
       "    .dataframe tbody tr th:only-of-type {\n",
       "        vertical-align: middle;\n",
       "    }\n",
       "\n",
       "    .dataframe tbody tr th {\n",
       "        vertical-align: top;\n",
       "    }\n",
       "\n",
       "    .dataframe thead th {\n",
       "        text-align: right;\n",
       "    }\n",
       "</style>\n",
       "<table border=\"1\" class=\"dataframe\">\n",
       "  <thead>\n",
       "    <tr style=\"text-align: right;\">\n",
       "      <th></th>\n",
       "      <th>CustomerID</th>\n",
       "      <th>TotalRevenue</th>\n",
       "      <th>Recency</th>\n",
       "      <th>Frequency</th>\n",
       "    </tr>\n",
       "  </thead>\n",
       "  <tbody>\n",
       "    <tr>\n",
       "      <th>0</th>\n",
       "      <td>17850</td>\n",
       "      <td>5288.63</td>\n",
       "      <td>371.0</td>\n",
       "      <td>33.0</td>\n",
       "    </tr>\n",
       "    <tr>\n",
       "      <th>1</th>\n",
       "      <td>13047</td>\n",
       "      <td>3079.10</td>\n",
       "      <td>31.0</td>\n",
       "      <td>3.0</td>\n",
       "    </tr>\n",
       "    <tr>\n",
       "      <th>2</th>\n",
       "      <td>13748</td>\n",
       "      <td>948.25</td>\n",
       "      <td>95.0</td>\n",
       "      <td>5.0</td>\n",
       "    </tr>\n",
       "    <tr>\n",
       "      <th>3</th>\n",
       "      <td>15100</td>\n",
       "      <td>635.10</td>\n",
       "      <td>333.0</td>\n",
       "      <td>0.0</td>\n",
       "    </tr>\n",
       "    <tr>\n",
       "      <th>4</th>\n",
       "      <td>15291</td>\n",
       "      <td>4596.51</td>\n",
       "      <td>25.0</td>\n",
       "      <td>11.0</td>\n",
       "    </tr>\n",
       "    <tr>\n",
       "      <th>...</th>\n",
       "      <td>...</td>\n",
       "      <td>...</td>\n",
       "      <td>...</td>\n",
       "      <td>...</td>\n",
       "    </tr>\n",
       "    <tr>\n",
       "      <th>3945</th>\n",
       "      <td>15471</td>\n",
       "      <td>469.48</td>\n",
       "      <td>1.0</td>\n",
       "      <td>1.0</td>\n",
       "    </tr>\n",
       "    <tr>\n",
       "      <th>3946</th>\n",
       "      <td>13436</td>\n",
       "      <td>196.89</td>\n",
       "      <td>1.0</td>\n",
       "      <td>1.0</td>\n",
       "    </tr>\n",
       "    <tr>\n",
       "      <th>3947</th>\n",
       "      <td>15520</td>\n",
       "      <td>343.50</td>\n",
       "      <td>1.0</td>\n",
       "      <td>1.0</td>\n",
       "    </tr>\n",
       "    <tr>\n",
       "      <th>3948</th>\n",
       "      <td>13298</td>\n",
       "      <td>360.00</td>\n",
       "      <td>0.0</td>\n",
       "      <td>1.0</td>\n",
       "    </tr>\n",
       "    <tr>\n",
       "      <th>3949</th>\n",
       "      <td>14569</td>\n",
       "      <td>227.39</td>\n",
       "      <td>0.0</td>\n",
       "      <td>1.0</td>\n",
       "    </tr>\n",
       "  </tbody>\n",
       "</table>\n",
       "<p>3921 rows × 4 columns</p>\n",
       "</div>"
      ],
      "text/plain": [
       "      CustomerID  TotalRevenue  Recency  Frequency\n",
       "0          17850       5288.63    371.0       33.0\n",
       "1          13047       3079.10     31.0        3.0\n",
       "2          13748        948.25     95.0        5.0\n",
       "3          15100        635.10    333.0        0.0\n",
       "4          15291       4596.51     25.0       11.0\n",
       "...          ...           ...      ...        ...\n",
       "3945       15471        469.48      1.0        1.0\n",
       "3946       13436        196.89      1.0        1.0\n",
       "3947       15520        343.50      1.0        1.0\n",
       "3948       13298        360.00      0.0        1.0\n",
       "3949       14569        227.39      0.0        1.0\n",
       "\n",
       "[3921 rows x 4 columns]"
      ]
     },
     "execution_count": 70,
     "metadata": {},
     "output_type": "execute_result"
    }
   ],
   "source": [
    "df2"
   ]
  },
  {
   "cell_type": "code",
   "execution_count": 26,
   "id": "e4bc8a1b-df4a-4cf5-94ed-ee869f57b06a",
   "metadata": {},
   "outputs": [
    {
     "data": {
      "text/plain": [
       "418     256438.49\n",
       "372     187482.17\n",
       "14       88125.38\n",
       "804      65892.08\n",
       "34       62653.10\n",
       "          ...    \n",
       "153       -840.76\n",
       "1784     -1165.30\n",
       "198      -1192.20\n",
       "2805     -1592.49\n",
       "2803     -4287.63\n",
       "Name: TotalRevenue, Length: 3950, dtype: float64"
      ]
     },
     "execution_count": 26,
     "metadata": {},
     "output_type": "execute_result"
    }
   ],
   "source": [
    "df2[\"TotalRevenue\"].sort_values(ascending=False)"
   ]
  },
  {
   "cell_type": "code",
   "execution_count": 27,
   "id": "8fd4acd4-35ee-45b0-bf4e-29859dc628f3",
   "metadata": {},
   "outputs": [
    {
     "data": {
      "text/plain": [
       "CustomerID      17448.00\n",
       "TotalRevenue    -4287.63\n",
       "Recency              NaN\n",
       "Frequency            NaN\n",
       "Name: 2803, dtype: float64"
      ]
     },
     "execution_count": 27,
     "metadata": {},
     "output_type": "execute_result"
    }
   ],
   "source": [
    "df2.iloc[2803]"
   ]
  },
  {
   "cell_type": "code",
   "execution_count": 28,
   "id": "c2d7404b-3ca1-4e07-945f-8843e2082146",
   "metadata": {},
   "outputs": [
    {
     "data": {
      "text/plain": [
       "CustomerID      14673.0\n",
       "TotalRevenue     1736.4\n",
       "Recency             2.0\n",
       "Frequency           5.0\n",
       "Name: 392, dtype: float64"
      ]
     },
     "execution_count": 28,
     "metadata": {},
     "output_type": "execute_result"
    }
   ],
   "source": [
    "df2.iloc[392]"
   ]
  },
  {
   "cell_type": "code",
   "execution_count": 29,
   "id": "641c0b9c-8cbe-4c20-ac28-b008e84b8498",
   "metadata": {},
   "outputs": [
    {
     "data": {
      "text/html": [
       "<div>\n",
       "<style scoped>\n",
       "    .dataframe tbody tr th:only-of-type {\n",
       "        vertical-align: middle;\n",
       "    }\n",
       "\n",
       "    .dataframe tbody tr th {\n",
       "        vertical-align: top;\n",
       "    }\n",
       "\n",
       "    .dataframe thead th {\n",
       "        text-align: right;\n",
       "    }\n",
       "</style>\n",
       "<table border=\"1\" class=\"dataframe\">\n",
       "  <thead>\n",
       "    <tr style=\"text-align: right;\">\n",
       "      <th></th>\n",
       "      <th>CustomerID</th>\n",
       "      <th>TotalRevenue</th>\n",
       "      <th>Recency</th>\n",
       "      <th>Frequency</th>\n",
       "    </tr>\n",
       "  </thead>\n",
       "  <tbody>\n",
       "    <tr>\n",
       "      <th>146</th>\n",
       "      <td>17547</td>\n",
       "      <td>-11.80</td>\n",
       "      <td>NaN</td>\n",
       "      <td>-1.0</td>\n",
       "    </tr>\n",
       "    <tr>\n",
       "      <th>171</th>\n",
       "      <td>13958</td>\n",
       "      <td>-102.45</td>\n",
       "      <td>NaN</td>\n",
       "      <td>-1.0</td>\n",
       "    </tr>\n",
       "    <tr>\n",
       "      <th>173</th>\n",
       "      <td>16995</td>\n",
       "      <td>-1.25</td>\n",
       "      <td>NaN</td>\n",
       "      <td>-1.0</td>\n",
       "    </tr>\n",
       "    <tr>\n",
       "      <th>198</th>\n",
       "      <td>14213</td>\n",
       "      <td>-1192.20</td>\n",
       "      <td>NaN</td>\n",
       "      <td>-1.0</td>\n",
       "    </tr>\n",
       "    <tr>\n",
       "      <th>200</th>\n",
       "      <td>14679</td>\n",
       "      <td>-2.55</td>\n",
       "      <td>NaN</td>\n",
       "      <td>-1.0</td>\n",
       "    </tr>\n",
       "    <tr>\n",
       "      <th>356</th>\n",
       "      <td>16138</td>\n",
       "      <td>-7.95</td>\n",
       "      <td>NaN</td>\n",
       "      <td>-1.0</td>\n",
       "    </tr>\n",
       "    <tr>\n",
       "      <th>476</th>\n",
       "      <td>12870</td>\n",
       "      <td>-14.90</td>\n",
       "      <td>NaN</td>\n",
       "      <td>-1.0</td>\n",
       "    </tr>\n",
       "    <tr>\n",
       "      <th>497</th>\n",
       "      <td>16252</td>\n",
       "      <td>-295.09</td>\n",
       "      <td>NaN</td>\n",
       "      <td>-1.0</td>\n",
       "    </tr>\n",
       "    <tr>\n",
       "      <th>551</th>\n",
       "      <td>16579</td>\n",
       "      <td>-30.60</td>\n",
       "      <td>NaN</td>\n",
       "      <td>NaN</td>\n",
       "    </tr>\n",
       "    <tr>\n",
       "      <th>557</th>\n",
       "      <td>17307</td>\n",
       "      <td>-152.64</td>\n",
       "      <td>NaN</td>\n",
       "      <td>-1.0</td>\n",
       "    </tr>\n",
       "    <tr>\n",
       "      <th>683</th>\n",
       "      <td>18141</td>\n",
       "      <td>-35.40</td>\n",
       "      <td>NaN</td>\n",
       "      <td>-1.0</td>\n",
       "    </tr>\n",
       "    <tr>\n",
       "      <th>689</th>\n",
       "      <td>16262</td>\n",
       "      <td>-31.65</td>\n",
       "      <td>NaN</td>\n",
       "      <td>-1.0</td>\n",
       "    </tr>\n",
       "    <tr>\n",
       "      <th>752</th>\n",
       "      <td>13829</td>\n",
       "      <td>-102.00</td>\n",
       "      <td>NaN</td>\n",
       "      <td>-1.0</td>\n",
       "    </tr>\n",
       "    <tr>\n",
       "      <th>755</th>\n",
       "      <td>17820</td>\n",
       "      <td>-24.05</td>\n",
       "      <td>NaN</td>\n",
       "      <td>-2.0</td>\n",
       "    </tr>\n",
       "    <tr>\n",
       "      <th>794</th>\n",
       "      <td>14777</td>\n",
       "      <td>-17.45</td>\n",
       "      <td>NaN</td>\n",
       "      <td>-2.0</td>\n",
       "    </tr>\n",
       "    <tr>\n",
       "      <th>837</th>\n",
       "      <td>18256</td>\n",
       "      <td>-50.10</td>\n",
       "      <td>NaN</td>\n",
       "      <td>-1.0</td>\n",
       "    </tr>\n",
       "    <tr>\n",
       "      <th>848</th>\n",
       "      <td>14119</td>\n",
       "      <td>-19.90</td>\n",
       "      <td>NaN</td>\n",
       "      <td>-1.0</td>\n",
       "    </tr>\n",
       "    <tr>\n",
       "      <th>1064</th>\n",
       "      <td>13693</td>\n",
       "      <td>-32.00</td>\n",
       "      <td>NaN</td>\n",
       "      <td>-2.0</td>\n",
       "    </tr>\n",
       "    <tr>\n",
       "      <th>1236</th>\n",
       "      <td>14627</td>\n",
       "      <td>-21.85</td>\n",
       "      <td>NaN</td>\n",
       "      <td>-1.0</td>\n",
       "    </tr>\n",
       "    <tr>\n",
       "      <th>1369</th>\n",
       "      <td>15638</td>\n",
       "      <td>-94.00</td>\n",
       "      <td>NaN</td>\n",
       "      <td>-1.0</td>\n",
       "    </tr>\n",
       "    <tr>\n",
       "      <th>1370</th>\n",
       "      <td>12943</td>\n",
       "      <td>-3.75</td>\n",
       "      <td>NaN</td>\n",
       "      <td>-1.0</td>\n",
       "    </tr>\n",
       "    <tr>\n",
       "      <th>1503</th>\n",
       "      <td>15590</td>\n",
       "      <td>-30.19</td>\n",
       "      <td>NaN</td>\n",
       "      <td>NaN</td>\n",
       "    </tr>\n",
       "    <tr>\n",
       "      <th>1756</th>\n",
       "      <td>16061</td>\n",
       "      <td>-29.95</td>\n",
       "      <td>NaN</td>\n",
       "      <td>-1.0</td>\n",
       "    </tr>\n",
       "    <tr>\n",
       "      <th>2803</th>\n",
       "      <td>17448</td>\n",
       "      <td>-4287.63</td>\n",
       "      <td>NaN</td>\n",
       "      <td>NaN</td>\n",
       "    </tr>\n",
       "    <tr>\n",
       "      <th>2805</th>\n",
       "      <td>15369</td>\n",
       "      <td>-1592.49</td>\n",
       "      <td>NaN</td>\n",
       "      <td>NaN</td>\n",
       "    </tr>\n",
       "    <tr>\n",
       "      <th>2806</th>\n",
       "      <td>13154</td>\n",
       "      <td>-611.86</td>\n",
       "      <td>NaN</td>\n",
       "      <td>NaN</td>\n",
       "    </tr>\n",
       "    <tr>\n",
       "      <th>2814</th>\n",
       "      <td>17065</td>\n",
       "      <td>-112.35</td>\n",
       "      <td>NaN</td>\n",
       "      <td>NaN</td>\n",
       "    </tr>\n",
       "    <tr>\n",
       "      <th>3167</th>\n",
       "      <td>16428</td>\n",
       "      <td>-2.95</td>\n",
       "      <td>NaN</td>\n",
       "      <td>-1.0</td>\n",
       "    </tr>\n",
       "    <tr>\n",
       "      <th>3525</th>\n",
       "      <td>15728</td>\n",
       "      <td>-134.80</td>\n",
       "      <td>NaN</td>\n",
       "      <td>-1.0</td>\n",
       "    </tr>\n",
       "  </tbody>\n",
       "</table>\n",
       "</div>"
      ],
      "text/plain": [
       "      CustomerID  TotalRevenue  Recency  Frequency\n",
       "146        17547        -11.80      NaN       -1.0\n",
       "171        13958       -102.45      NaN       -1.0\n",
       "173        16995         -1.25      NaN       -1.0\n",
       "198        14213      -1192.20      NaN       -1.0\n",
       "200        14679         -2.55      NaN       -1.0\n",
       "356        16138         -7.95      NaN       -1.0\n",
       "476        12870        -14.90      NaN       -1.0\n",
       "497        16252       -295.09      NaN       -1.0\n",
       "551        16579        -30.60      NaN        NaN\n",
       "557        17307       -152.64      NaN       -1.0\n",
       "683        18141        -35.40      NaN       -1.0\n",
       "689        16262        -31.65      NaN       -1.0\n",
       "752        13829       -102.00      NaN       -1.0\n",
       "755        17820        -24.05      NaN       -2.0\n",
       "794        14777        -17.45      NaN       -2.0\n",
       "837        18256        -50.10      NaN       -1.0\n",
       "848        14119        -19.90      NaN       -1.0\n",
       "1064       13693        -32.00      NaN       -2.0\n",
       "1236       14627        -21.85      NaN       -1.0\n",
       "1369       15638        -94.00      NaN       -1.0\n",
       "1370       12943         -3.75      NaN       -1.0\n",
       "1503       15590        -30.19      NaN        NaN\n",
       "1756       16061        -29.95      NaN       -1.0\n",
       "2803       17448      -4287.63      NaN        NaN\n",
       "2805       15369      -1592.49      NaN        NaN\n",
       "2806       13154       -611.86      NaN        NaN\n",
       "2814       17065       -112.35      NaN        NaN\n",
       "3167       16428         -2.95      NaN       -1.0\n",
       "3525       15728       -134.80      NaN       -1.0"
      ]
     },
     "execution_count": 29,
     "metadata": {},
     "output_type": "execute_result"
    }
   ],
   "source": [
    "df2[df2[\"Recency\"].isna()]"
   ]
  },
  {
   "cell_type": "code",
   "execution_count": 74,
   "id": "19e92f0b-95ea-4696-b2e2-28f83274db06",
   "metadata": {},
   "outputs": [
    {
     "data": {
      "text/plain": [
       "<AxesSubplot:xlabel='TotalRevenue', ylabel='Count'>"
      ]
     },
     "execution_count": 74,
     "metadata": {},
     "output_type": "execute_result"
    },
    {
     "data": {
      "image/png": "[encoded data removed]",
      "text/plain": [
       "<Figure size 432x288 with 1 Axes>"
      ]
     },
     "metadata": {},
     "output_type": "display_data"
    }
   ],
   "source": [
    "sns.histplot(np.log(df2[\"TotalRevenue\"]))"
   ]
  },
  {
   "cell_type": "code",
   "execution_count": 76,
   "id": "ee30340c-97f5-40af-9a26-db60238ad3a2",
   "metadata": {},
   "outputs": [
    {
     "data": {
      "text/plain": [
       "6.48768401848461"
      ]
     },
     "execution_count": 76,
     "metadata": {},
     "output_type": "execute_result"
    }
   ],
   "source": [
    "np.log(657)"
   ]
  },
  {
   "cell_type": "code",
   "execution_count": 75,
   "id": "21568b6f-3af0-4cf6-976f-e52495d910cd",
   "metadata": {},
   "outputs": [
    {
     "data": {
      "text/plain": [
       "\u001b[0;31mCall signature:\u001b[0m  \u001b[0mnp\u001b[0m\u001b[0;34m.\u001b[0m\u001b[0mlog\u001b[0m\u001b[0;34m(\u001b[0m\u001b[0;34m*\u001b[0m\u001b[0margs\u001b[0m\u001b[0;34m,\u001b[0m \u001b[0;34m**\u001b[0m\u001b[0mkwargs\u001b[0m\u001b[0;34m)\u001b[0m\u001b[0;34m\u001b[0m\u001b[0;34m\u001b[0m\u001b[0m\n",
       "\u001b[0;31mType:\u001b[0m            ufunc\n",
       "\u001b[0;31mString form:\u001b[0m     <ufunc 'log'>\n",
       "\u001b[0;31mFile:\u001b[0m            ~/anaconda3/lib/python3.9/site-packages/numpy/__init__.py\n",
       "\u001b[0;31mDocstring:\u001b[0m      \n",
       "log(x, /, out=None, *, where=True, casting='same_kind', order='K', dtype=None, subok=True[, signature, extobj])\n",
       "\n",
       "Natural logarithm, element-wise.\n",
       "\n",
       "The natural logarithm `log` is the inverse of the exponential function,\n",
       "so that `log(exp(x)) = x`. The natural logarithm is logarithm in base\n",
       "`e`.\n",
       "\n",
       "Parameters\n",
       "----------\n",
       "x : array_like\n",
       "    Input value.\n",
       "out : ndarray, None, or tuple of ndarray and None, optional\n",
       "    A location into which the result is stored. If provided, it must have\n",
       "    a shape that the inputs broadcast to. If not provided or None,\n",
       "    a freshly-allocated array is returned. A tuple (possible only as a\n",
       "    keyword argument) must have length equal to the number of outputs.\n",
       "where : array_like, optional\n",
       "    This condition is broadcast over the input. At locations where the\n",
       "    condition is True, the `out` array will be set to the ufunc result.\n",
       "    Elsewhere, the `out` array will retain its original value.\n",
       "    Note that if an uninitialized `out` array is created via the default\n",
       "    ``out=None``, locations within it where the condition is False will\n",
       "    remain uninitialized.\n",
       "**kwargs\n",
       "    For other keyword-only arguments, see the\n",
       "    :ref:`ufunc docs <ufuncs.kwargs>`.\n",
       "\n",
       "Returns\n",
       "-------\n",
       "y : ndarray\n",
       "    The natural logarithm of `x`, element-wise.\n",
       "    This is a scalar if `x` is a scalar.\n",
       "\n",
       "See Also\n",
       "--------\n",
       "log10, log2, log1p, emath.log\n",
       "\n",
       "Notes\n",
       "-----\n",
       "Logarithm is a multivalued function: for each `x` there is an infinite\n",
       "number of `z` such that `exp(z) = x`. The convention is to return the\n",
       "`z` whose imaginary part lies in `[-pi, pi]`.\n",
       "\n",
       "For real-valued input data types, `log` always returns real output. For\n",
       "each value that cannot be expressed as a real number or infinity, it\n",
       "yields ``nan`` and sets the `invalid` floating point error flag.\n",
       "\n",
       "For complex-valued input, `log` is a complex analytical function that\n",
       "has a branch cut `[-inf, 0]` and is continuous from above on it. `log`\n",
       "handles the floating-point negative zero as an infinitesimal negative\n",
       "number, conforming to the C99 standard.\n",
       "\n",
       "References\n",
       "----------\n",
       ".. [1] M. Abramowitz and I.A. Stegun, \"Handbook of Mathematical Functions\",\n",
       "       10th printing, 1964, pp. 67. http://www.math.sfu.ca/~cbm/aands/\n",
       ".. [2] Wikipedia, \"Logarithm\". https://en.wikipedia.org/wiki/Logarithm\n",
       "\n",
       "Examples\n",
       "--------\n",
       ">>> np.log([1, np.e, np.e**2, 0])\n",
       "array([  0.,   1.,   2., -Inf])\n",
       "\u001b[0;31mClass docstring:\u001b[0m\n",
       "Functions that operate element by element on whole arrays.\n",
       "\n",
       "To see the documentation for a specific ufunc, use `info`.  For\n",
       "example, ``np.info(np.sin)``.  Because ufuncs are written in C\n",
       "(for speed) and linked into Python with NumPy's ufunc facility,\n",
       "Python's help() function finds this page whenever help() is called\n",
       "on a ufunc.\n",
       "\n",
       "A detailed explanation of ufuncs can be found in the docs for :ref:`ufuncs`.\n",
       "\n",
       "**Calling ufuncs:** ``op(*x[, out], where=True, **kwargs)``\n",
       "\n",
       "Apply `op` to the arguments `*x` elementwise, broadcasting the arguments.\n",
       "\n",
       "The broadcasting rules are:\n",
       "\n",
       "* Dimensions of length 1 may be prepended to either array.\n",
       "* Arrays may be repeated along dimensions of length 1.\n",
       "\n",
       "Parameters\n",
       "----------\n",
       "*x : array_like\n",
       "    Input arrays.\n",
       "out : ndarray, None, or tuple of ndarray and None, optional\n",
       "    Alternate array object(s) in which to put the result; if provided, it\n",
       "    must have a shape that the inputs broadcast to. A tuple of arrays\n",
       "    (possible only as a keyword argument) must have length equal to the\n",
       "    number of outputs; use None for uninitialized outputs to be\n",
       "    allocated by the ufunc.\n",
       "where : array_like, optional\n",
       "    This condition is broadcast over the input. At locations where the\n",
       "    condition is True, the `out` array will be set to the ufunc result.\n",
       "    Elsewhere, the `out` array will retain its original value.\n",
       "    Note that if an uninitialized `out` array is created via the default\n",
       "    ``out=None``, locations within it where the condition is False will\n",
       "    remain uninitialized.\n",
       "**kwargs\n",
       "    For other keyword-only arguments, see the :ref:`ufunc docs <ufuncs.kwargs>`.\n",
       "\n",
       "Returns\n",
       "-------\n",
       "r : ndarray or tuple of ndarray\n",
       "    `r` will have the shape that the arrays in `x` broadcast to; if `out` is\n",
       "    provided, it will be returned. If not, `r` will be allocated and\n",
       "    may contain uninitialized values. If the function has more than one\n",
       "    output, then the result will be a tuple of arrays.\n"
      ]
     },
     "metadata": {},
     "output_type": "display_data"
    }
   ],
   "source": [
    "np.log?"
   ]
  },
  {
   "cell_type": "code",
   "execution_count": 31,
   "id": "a244b7c2-19d2-4601-8689-42e73d0c502e",
   "metadata": {},
   "outputs": [
    {
     "data": {
      "text/html": [
       "<div>\n",
       "<style scoped>\n",
       "    .dataframe tbody tr th:only-of-type {\n",
       "        vertical-align: middle;\n",
       "    }\n",
       "\n",
       "    .dataframe tbody tr th {\n",
       "        vertical-align: top;\n",
       "    }\n",
       "\n",
       "    .dataframe thead th {\n",
       "        text-align: right;\n",
       "    }\n",
       "</style>\n",
       "<table border=\"1\" class=\"dataframe\">\n",
       "  <thead>\n",
       "    <tr style=\"text-align: right;\">\n",
       "      <th></th>\n",
       "      <th>InvoiceNo</th>\n",
       "      <th>StockCode</th>\n",
       "      <th>Quantity</th>\n",
       "      <th>InvoiceDate</th>\n",
       "      <th>UnitPrice</th>\n",
       "      <th>CustomerID</th>\n",
       "      <th>Subtotal</th>\n",
       "      <th>Recency</th>\n",
       "    </tr>\n",
       "  </thead>\n",
       "  <tbody>\n",
       "    <tr>\n",
       "      <th>141</th>\n",
       "      <td>C536379</td>\n",
       "      <td>D</td>\n",
       "      <td>-1</td>\n",
       "      <td>2010-12-01 09:41:00</td>\n",
       "      <td>27.50</td>\n",
       "      <td>14527</td>\n",
       "      <td>-27.50</td>\n",
       "      <td>373</td>\n",
       "    </tr>\n",
       "    <tr>\n",
       "      <th>154</th>\n",
       "      <td>C536383</td>\n",
       "      <td>35004C</td>\n",
       "      <td>-1</td>\n",
       "      <td>2010-12-01 09:49:00</td>\n",
       "      <td>4.65</td>\n",
       "      <td>15311</td>\n",
       "      <td>-4.65</td>\n",
       "      <td>373</td>\n",
       "    </tr>\n",
       "    <tr>\n",
       "      <th>235</th>\n",
       "      <td>C536391</td>\n",
       "      <td>22556</td>\n",
       "      <td>-12</td>\n",
       "      <td>2010-12-01 10:24:00</td>\n",
       "      <td>1.65</td>\n",
       "      <td>17548</td>\n",
       "      <td>-19.80</td>\n",
       "      <td>373</td>\n",
       "    </tr>\n",
       "    <tr>\n",
       "      <th>236</th>\n",
       "      <td>C536391</td>\n",
       "      <td>21984</td>\n",
       "      <td>-24</td>\n",
       "      <td>2010-12-01 10:24:00</td>\n",
       "      <td>0.29</td>\n",
       "      <td>17548</td>\n",
       "      <td>-6.96</td>\n",
       "      <td>373</td>\n",
       "    </tr>\n",
       "    <tr>\n",
       "      <th>237</th>\n",
       "      <td>C536391</td>\n",
       "      <td>21983</td>\n",
       "      <td>-24</td>\n",
       "      <td>2010-12-01 10:24:00</td>\n",
       "      <td>0.29</td>\n",
       "      <td>17548</td>\n",
       "      <td>-6.96</td>\n",
       "      <td>373</td>\n",
       "    </tr>\n",
       "    <tr>\n",
       "      <th>...</th>\n",
       "      <td>...</td>\n",
       "      <td>...</td>\n",
       "      <td>...</td>\n",
       "      <td>...</td>\n",
       "      <td>...</td>\n",
       "      <td>...</td>\n",
       "      <td>...</td>\n",
       "      <td>...</td>\n",
       "    </tr>\n",
       "    <tr>\n",
       "      <th>540449</th>\n",
       "      <td>C581490</td>\n",
       "      <td>23144</td>\n",
       "      <td>-11</td>\n",
       "      <td>2011-12-09 09:57:00</td>\n",
       "      <td>0.83</td>\n",
       "      <td>14397</td>\n",
       "      <td>-9.13</td>\n",
       "      <td>0</td>\n",
       "    </tr>\n",
       "    <tr>\n",
       "      <th>541541</th>\n",
       "      <td>C581499</td>\n",
       "      <td>M</td>\n",
       "      <td>-1</td>\n",
       "      <td>2011-12-09 10:28:00</td>\n",
       "      <td>224.69</td>\n",
       "      <td>15498</td>\n",
       "      <td>-224.69</td>\n",
       "      <td>0</td>\n",
       "    </tr>\n",
       "    <tr>\n",
       "      <th>541715</th>\n",
       "      <td>C581568</td>\n",
       "      <td>21258</td>\n",
       "      <td>-5</td>\n",
       "      <td>2011-12-09 11:57:00</td>\n",
       "      <td>10.95</td>\n",
       "      <td>15311</td>\n",
       "      <td>-54.75</td>\n",
       "      <td>0</td>\n",
       "    </tr>\n",
       "    <tr>\n",
       "      <th>541716</th>\n",
       "      <td>C581569</td>\n",
       "      <td>84978</td>\n",
       "      <td>-1</td>\n",
       "      <td>2011-12-09 11:58:00</td>\n",
       "      <td>1.25</td>\n",
       "      <td>17315</td>\n",
       "      <td>-1.25</td>\n",
       "      <td>0</td>\n",
       "    </tr>\n",
       "    <tr>\n",
       "      <th>541717</th>\n",
       "      <td>C581569</td>\n",
       "      <td>20979</td>\n",
       "      <td>-5</td>\n",
       "      <td>2011-12-09 11:58:00</td>\n",
       "      <td>1.25</td>\n",
       "      <td>17315</td>\n",
       "      <td>-6.25</td>\n",
       "      <td>0</td>\n",
       "    </tr>\n",
       "  </tbody>\n",
       "</table>\n",
       "<p>7533 rows × 8 columns</p>\n",
       "</div>"
      ],
      "text/plain": [
       "       InvoiceNo StockCode  Quantity         InvoiceDate  UnitPrice  \\\n",
       "141      C536379         D        -1 2010-12-01 09:41:00      27.50   \n",
       "154      C536383    35004C        -1 2010-12-01 09:49:00       4.65   \n",
       "235      C536391     22556       -12 2010-12-01 10:24:00       1.65   \n",
       "236      C536391     21984       -24 2010-12-01 10:24:00       0.29   \n",
       "237      C536391     21983       -24 2010-12-01 10:24:00       0.29   \n",
       "...          ...       ...       ...                 ...        ...   \n",
       "540449   C581490     23144       -11 2011-12-09 09:57:00       0.83   \n",
       "541541   C581499         M        -1 2011-12-09 10:28:00     224.69   \n",
       "541715   C581568     21258        -5 2011-12-09 11:57:00      10.95   \n",
       "541716   C581569     84978        -1 2011-12-09 11:58:00       1.25   \n",
       "541717   C581569     20979        -5 2011-12-09 11:58:00       1.25   \n",
       "\n",
       "        CustomerID  Subtotal  Recency  \n",
       "141          14527    -27.50      373  \n",
       "154          15311     -4.65      373  \n",
       "235          17548    -19.80      373  \n",
       "236          17548     -6.96      373  \n",
       "237          17548     -6.96      373  \n",
       "...            ...       ...      ...  \n",
       "540449       14397     -9.13        0  \n",
       "541541       15498   -224.69        0  \n",
       "541715       15311    -54.75        0  \n",
       "541716       17315     -1.25        0  \n",
       "541717       17315     -6.25        0  \n",
       "\n",
       "[7533 rows x 8 columns]"
      ]
     },
     "execution_count": 31,
     "metadata": {},
     "output_type": "execute_result"
    }
   ],
   "source": [
    "df1[(df1[\"InvoiceNo\"].str.match(\"C\")) & (df1[\"Quantity\"] < 0)]"
   ]
  },
  {
   "cell_type": "code",
   "execution_count": 32,
   "id": "8caab589-24ca-444a-a094-3c62b7b671d4",
   "metadata": {},
   "outputs": [],
   "source": [
    "a = pd.Series([1,0,3] , index=[\"a\",\"b\",\"c\"])\n",
    "b = pd.Series([3,4,5], index=[\"b\",\"a\",\"c\"])"
   ]
  },
  {
   "cell_type": "code",
   "execution_count": 33,
   "id": "ec6748cb-f7b2-4852-a425-e71e6811a141",
   "metadata": {},
   "outputs": [
    {
     "data": {
      "text/plain": [
       "a    5\n",
       "b    3\n",
       "c    8\n",
       "dtype: int64"
      ]
     },
     "execution_count": 33,
     "metadata": {},
     "output_type": "execute_result"
    }
   ],
   "source": [
    "a+b"
   ]
  },
  {
   "cell_type": "code",
   "execution_count": 34,
   "id": "f59609fb-535a-4ecb-8343-1a92b40320d1",
   "metadata": {},
   "outputs": [
    {
     "data": {
      "text/html": [
       "<div>\n",
       "<style scoped>\n",
       "    .dataframe tbody tr th:only-of-type {\n",
       "        vertical-align: middle;\n",
       "    }\n",
       "\n",
       "    .dataframe tbody tr th {\n",
       "        vertical-align: top;\n",
       "    }\n",
       "\n",
       "    .dataframe thead th {\n",
       "        text-align: right;\n",
       "    }\n",
       "</style>\n",
       "<table border=\"1\" class=\"dataframe\">\n",
       "  <thead>\n",
       "    <tr style=\"text-align: right;\">\n",
       "      <th></th>\n",
       "      <th>InvoiceNo</th>\n",
       "    </tr>\n",
       "    <tr>\n",
       "      <th>CustomerID</th>\n",
       "      <th></th>\n",
       "    </tr>\n",
       "  </thead>\n",
       "  <tbody>\n",
       "    <tr>\n",
       "      <th>12346</th>\n",
       "      <td>2</td>\n",
       "    </tr>\n",
       "    <tr>\n",
       "      <th>12747</th>\n",
       "      <td>11</td>\n",
       "    </tr>\n",
       "    <tr>\n",
       "      <th>12748</th>\n",
       "      <td>224</td>\n",
       "    </tr>\n",
       "    <tr>\n",
       "      <th>12749</th>\n",
       "      <td>8</td>\n",
       "    </tr>\n",
       "    <tr>\n",
       "      <th>12820</th>\n",
       "      <td>4</td>\n",
       "    </tr>\n",
       "    <tr>\n",
       "      <th>...</th>\n",
       "      <td>...</td>\n",
       "    </tr>\n",
       "    <tr>\n",
       "      <th>18280</th>\n",
       "      <td>1</td>\n",
       "    </tr>\n",
       "    <tr>\n",
       "      <th>18281</th>\n",
       "      <td>1</td>\n",
       "    </tr>\n",
       "    <tr>\n",
       "      <th>18282</th>\n",
       "      <td>3</td>\n",
       "    </tr>\n",
       "    <tr>\n",
       "      <th>18283</th>\n",
       "      <td>16</td>\n",
       "    </tr>\n",
       "    <tr>\n",
       "      <th>18287</th>\n",
       "      <td>3</td>\n",
       "    </tr>\n",
       "  </tbody>\n",
       "</table>\n",
       "<p>3950 rows × 1 columns</p>\n",
       "</div>"
      ],
      "text/plain": [
       "            InvoiceNo\n",
       "CustomerID           \n",
       "12346               2\n",
       "12747              11\n",
       "12748             224\n",
       "12749               8\n",
       "12820               4\n",
       "...               ...\n",
       "18280               1\n",
       "18281               1\n",
       "18282               3\n",
       "18283              16\n",
       "18287               3\n",
       "\n",
       "[3950 rows x 1 columns]"
      ]
     },
     "execution_count": 34,
     "metadata": {},
     "output_type": "execute_result"
    }
   ],
   "source": [
    "df1[[\"CustomerID\", \"InvoiceNo\"]].groupby(\"CustomerID\").nunique()"
   ]
  },
  {
   "cell_type": "code",
   "execution_count": 35,
   "id": "0669f553-c832-4b94-9c30-d2a940fc9bf2",
   "metadata": {},
   "outputs": [
    {
     "data": {
      "text/html": [
       "<div>\n",
       "<style scoped>\n",
       "    .dataframe tbody tr th:only-of-type {\n",
       "        vertical-align: middle;\n",
       "    }\n",
       "\n",
       "    .dataframe tbody tr th {\n",
       "        vertical-align: top;\n",
       "    }\n",
       "\n",
       "    .dataframe thead th {\n",
       "        text-align: right;\n",
       "    }\n",
       "</style>\n",
       "<table border=\"1\" class=\"dataframe\">\n",
       "  <thead>\n",
       "    <tr style=\"text-align: right;\">\n",
       "      <th></th>\n",
       "      <th>CustomerID</th>\n",
       "      <th>Frequency</th>\n",
       "    </tr>\n",
       "  </thead>\n",
       "  <tbody>\n",
       "    <tr>\n",
       "      <th>0</th>\n",
       "      <td>12346</td>\n",
       "      <td>0.0</td>\n",
       "    </tr>\n",
       "    <tr>\n",
       "      <th>1</th>\n",
       "      <td>12747</td>\n",
       "      <td>11.0</td>\n",
       "    </tr>\n",
       "    <tr>\n",
       "      <th>2</th>\n",
       "      <td>12748</td>\n",
       "      <td>200.0</td>\n",
       "    </tr>\n",
       "    <tr>\n",
       "      <th>3</th>\n",
       "      <td>12749</td>\n",
       "      <td>2.0</td>\n",
       "    </tr>\n",
       "    <tr>\n",
       "      <th>4</th>\n",
       "      <td>12820</td>\n",
       "      <td>4.0</td>\n",
       "    </tr>\n",
       "    <tr>\n",
       "      <th>...</th>\n",
       "      <td>...</td>\n",
       "      <td>...</td>\n",
       "    </tr>\n",
       "    <tr>\n",
       "      <th>3939</th>\n",
       "      <td>18280</td>\n",
       "      <td>1.0</td>\n",
       "    </tr>\n",
       "    <tr>\n",
       "      <th>3940</th>\n",
       "      <td>18281</td>\n",
       "      <td>1.0</td>\n",
       "    </tr>\n",
       "    <tr>\n",
       "      <th>3941</th>\n",
       "      <td>18282</td>\n",
       "      <td>1.0</td>\n",
       "    </tr>\n",
       "    <tr>\n",
       "      <th>3942</th>\n",
       "      <td>18283</td>\n",
       "      <td>16.0</td>\n",
       "    </tr>\n",
       "    <tr>\n",
       "      <th>3943</th>\n",
       "      <td>18287</td>\n",
       "      <td>3.0</td>\n",
       "    </tr>\n",
       "  </tbody>\n",
       "</table>\n",
       "<p>3944 rows × 2 columns</p>\n",
       "</div>"
      ],
      "text/plain": [
       "      CustomerID  Frequency\n",
       "0          12346        0.0\n",
       "1          12747       11.0\n",
       "2          12748      200.0\n",
       "3          12749        2.0\n",
       "4          12820        4.0\n",
       "...          ...        ...\n",
       "3939       18280        1.0\n",
       "3940       18281        1.0\n",
       "3941       18282        1.0\n",
       "3942       18283       16.0\n",
       "3943       18287        3.0\n",
       "\n",
       "[3944 rows x 2 columns]"
      ]
     },
     "execution_count": 35,
     "metadata": {},
     "output_type": "execute_result"
    }
   ],
   "source": [
    "aux"
   ]
  },
  {
   "cell_type": "code",
   "execution_count": 36,
   "id": "423bc232-2916-4861-af98-8b3dc9053c04",
   "metadata": {},
   "outputs": [
    {
     "data": {
      "text/html": [
       "<div>\n",
       "<style scoped>\n",
       "    .dataframe tbody tr th:only-of-type {\n",
       "        vertical-align: middle;\n",
       "    }\n",
       "\n",
       "    .dataframe tbody tr th {\n",
       "        vertical-align: top;\n",
       "    }\n",
       "\n",
       "    .dataframe thead th {\n",
       "        text-align: right;\n",
       "    }\n",
       "</style>\n",
       "<table border=\"1\" class=\"dataframe\">\n",
       "  <thead>\n",
       "    <tr style=\"text-align: right;\">\n",
       "      <th></th>\n",
       "      <th>InvoiceNo</th>\n",
       "    </tr>\n",
       "    <tr>\n",
       "      <th>CustomerID</th>\n",
       "      <th></th>\n",
       "    </tr>\n",
       "  </thead>\n",
       "  <tbody>\n",
       "    <tr>\n",
       "      <th>12346</th>\n",
       "      <td>1</td>\n",
       "    </tr>\n",
       "    <tr>\n",
       "      <th>12747</th>\n",
       "      <td>11</td>\n",
       "    </tr>\n",
       "    <tr>\n",
       "      <th>12748</th>\n",
       "      <td>210</td>\n",
       "    </tr>\n",
       "    <tr>\n",
       "      <th>12749</th>\n",
       "      <td>5</td>\n",
       "    </tr>\n",
       "    <tr>\n",
       "      <th>12820</th>\n",
       "      <td>4</td>\n",
       "    </tr>\n",
       "    <tr>\n",
       "      <th>...</th>\n",
       "      <td>...</td>\n",
       "    </tr>\n",
       "    <tr>\n",
       "      <th>18280</th>\n",
       "      <td>1</td>\n",
       "    </tr>\n",
       "    <tr>\n",
       "      <th>18281</th>\n",
       "      <td>1</td>\n",
       "    </tr>\n",
       "    <tr>\n",
       "      <th>18282</th>\n",
       "      <td>2</td>\n",
       "    </tr>\n",
       "    <tr>\n",
       "      <th>18283</th>\n",
       "      <td>16</td>\n",
       "    </tr>\n",
       "    <tr>\n",
       "      <th>18287</th>\n",
       "      <td>3</td>\n",
       "    </tr>\n",
       "  </tbody>\n",
       "</table>\n",
       "<p>3921 rows × 1 columns</p>\n",
       "</div>"
      ],
      "text/plain": [
       "            InvoiceNo\n",
       "CustomerID           \n",
       "12346               1\n",
       "12747              11\n",
       "12748             210\n",
       "12749               5\n",
       "12820               4\n",
       "...               ...\n",
       "18280               1\n",
       "18281               1\n",
       "18282               2\n",
       "18283              16\n",
       "18287               3\n",
       "\n",
       "[3921 rows x 1 columns]"
      ]
     },
     "execution_count": 36,
     "metadata": {},
     "output_type": "execute_result"
    }
   ],
   "source": [
    "aux1"
   ]
  },
  {
   "cell_type": "code",
   "execution_count": null,
   "id": "8e92bb6d-9a3d-4dfe-830a-fba5eb6079fe",
   "metadata": {},
   "outputs": [],
   "source": []
  }
 ],
 "metadata": {
  "kernelspec": {
   "display_name": "Python 3 (ipykernel)",
   "language": "python",
   "name": "python3"
  },
  "language_info": {
   "codemirror_mode": {
    "name": "ipython",
    "version": 3
   },
   "file_extension": ".py",
   "mimetype": "text/x-python",
   "name": "python",
   "nbconvert_exporter": "python",
   "pygments_lexer": "ipython3",
   "version": "3.9.7"
  }
 },
 "nbformat": 4,
 "nbformat_minor": 5
}
