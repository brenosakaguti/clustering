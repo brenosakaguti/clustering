{
 "cells": [
  {
   "cell_type": "markdown",
   "id": "6989aaa7-e1e6-4894-ba04-7a6c692f5c41",
   "metadata": {},
   "source": [
    "# Project: Customer Clusterization"
   ]
  },
  {
   "cell_type": "markdown",
   "id": "27b7f589-5fbe-490c-98e0-9e05046fe06c",
   "metadata": {},
   "source": [
    "# Imports"
   ]
  },
  {
   "cell_type": "code",
   "execution_count": 1,
   "id": "f0ae4a9a-1cae-423e-9d0e-791981a1a3b5",
   "metadata": {},
   "outputs": [],
   "source": [
    "import pandas as pd\n",
    "import numpy as np\n",
    "import matplotlib.pyplot as plt\n",
    "import seaborn as sns"
   ]
  },
  {
   "cell_type": "code",
   "execution_count": 28,
   "id": "90d8b872-82cd-450f-865f-e1644f562ae8",
   "metadata": {},
   "outputs": [],
   "source": [
    "sns.set_theme()"
   ]
  },
  {
   "cell_type": "markdown",
   "id": "2b3f8fee-b4cb-4fbe-bb91-480b77b39e42",
   "metadata": {},
   "source": [
    "# Data Preparation"
   ]
  },
  {
   "cell_type": "code",
   "execution_count": 2,
   "id": "8f1d13e7-6d67-4bfa-ba9c-f5e6dbdf430c",
   "metadata": {},
   "outputs": [],
   "source": [
    "df1 = pd.read_csv(\"data.csv\", low_memory=False)"
   ]
  },
  {
   "cell_type": "code",
   "execution_count": 3,
   "id": "66afd1f8-9b01-45e1-8a87-c541aa246812",
   "metadata": {},
   "outputs": [
    {
     "data": {
      "text/html": [
       "<div>\n",
       "<style scoped>\n",
       "    .dataframe tbody tr th:only-of-type {\n",
       "        vertical-align: middle;\n",
       "    }\n",
       "\n",
       "    .dataframe tbody tr th {\n",
       "        vertical-align: top;\n",
       "    }\n",
       "\n",
       "    .dataframe thead th {\n",
       "        text-align: right;\n",
       "    }\n",
       "</style>\n",
       "<table border=\"1\" class=\"dataframe\">\n",
       "  <thead>\n",
       "    <tr style=\"text-align: right;\">\n",
       "      <th></th>\n",
       "      <th>InvoiceNo</th>\n",
       "      <th>StockCode</th>\n",
       "      <th>Description</th>\n",
       "      <th>Quantity</th>\n",
       "      <th>InvoiceDate</th>\n",
       "      <th>UnitPrice</th>\n",
       "      <th>CustomerID</th>\n",
       "      <th>Country</th>\n",
       "    </tr>\n",
       "  </thead>\n",
       "  <tbody>\n",
       "    <tr>\n",
       "      <th>0</th>\n",
       "      <td>536365</td>\n",
       "      <td>85123A</td>\n",
       "      <td>WHITE HANGING HEART T-LIGHT HOLDER</td>\n",
       "      <td>6</td>\n",
       "      <td>2010-12-01 08:26:00</td>\n",
       "      <td>2.55</td>\n",
       "      <td>17850.0</td>\n",
       "      <td>United Kingdom</td>\n",
       "    </tr>\n",
       "    <tr>\n",
       "      <th>1</th>\n",
       "      <td>536365</td>\n",
       "      <td>71053</td>\n",
       "      <td>WHITE METAL LANTERN</td>\n",
       "      <td>6</td>\n",
       "      <td>2010-12-01 08:26:00</td>\n",
       "      <td>3.39</td>\n",
       "      <td>17850.0</td>\n",
       "      <td>United Kingdom</td>\n",
       "    </tr>\n",
       "    <tr>\n",
       "      <th>2</th>\n",
       "      <td>536365</td>\n",
       "      <td>84406B</td>\n",
       "      <td>CREAM CUPID HEARTS COAT HANGER</td>\n",
       "      <td>8</td>\n",
       "      <td>2010-12-01 08:26:00</td>\n",
       "      <td>2.75</td>\n",
       "      <td>17850.0</td>\n",
       "      <td>United Kingdom</td>\n",
       "    </tr>\n",
       "    <tr>\n",
       "      <th>3</th>\n",
       "      <td>536365</td>\n",
       "      <td>84029G</td>\n",
       "      <td>KNITTED UNION FLAG HOT WATER BOTTLE</td>\n",
       "      <td>6</td>\n",
       "      <td>2010-12-01 08:26:00</td>\n",
       "      <td>3.39</td>\n",
       "      <td>17850.0</td>\n",
       "      <td>United Kingdom</td>\n",
       "    </tr>\n",
       "    <tr>\n",
       "      <th>4</th>\n",
       "      <td>536365</td>\n",
       "      <td>84029E</td>\n",
       "      <td>RED WOOLLY HOTTIE WHITE HEART.</td>\n",
       "      <td>6</td>\n",
       "      <td>2010-12-01 08:26:00</td>\n",
       "      <td>3.39</td>\n",
       "      <td>17850.0</td>\n",
       "      <td>United Kingdom</td>\n",
       "    </tr>\n",
       "  </tbody>\n",
       "</table>\n",
       "</div>"
      ],
      "text/plain": [
       "  InvoiceNo StockCode                          Description  Quantity  \\\n",
       "0    536365    85123A   WHITE HANGING HEART T-LIGHT HOLDER         6   \n",
       "1    536365     71053                  WHITE METAL LANTERN         6   \n",
       "2    536365    84406B       CREAM CUPID HEARTS COAT HANGER         8   \n",
       "3    536365    84029G  KNITTED UNION FLAG HOT WATER BOTTLE         6   \n",
       "4    536365    84029E       RED WOOLLY HOTTIE WHITE HEART.         6   \n",
       "\n",
       "           InvoiceDate UnitPrice  CustomerID         Country  \n",
       "0  2010-12-01 08:26:00      2.55     17850.0  United Kingdom  \n",
       "1  2010-12-01 08:26:00      3.39     17850.0  United Kingdom  \n",
       "2  2010-12-01 08:26:00      2.75     17850.0  United Kingdom  \n",
       "3  2010-12-01 08:26:00      3.39     17850.0  United Kingdom  \n",
       "4  2010-12-01 08:26:00      3.39     17850.0  United Kingdom  "
      ]
     },
     "execution_count": 3,
     "metadata": {},
     "output_type": "execute_result"
    }
   ],
   "source": [
    "df1.head()"
   ]
  },
  {
   "cell_type": "code",
   "execution_count": 4,
   "id": "a4b9d26c-d4f9-4ef8-bac0-927b67d9a6c0",
   "metadata": {},
   "outputs": [
    {
     "data": {
      "text/plain": [
       "InvoiceNo       object\n",
       "StockCode       object\n",
       "Description     object\n",
       "Quantity         int64\n",
       "InvoiceDate     object\n",
       "UnitPrice       object\n",
       "CustomerID     float64\n",
       "Country         object\n",
       "dtype: object"
      ]
     },
     "execution_count": 4,
     "metadata": {},
     "output_type": "execute_result"
    }
   ],
   "source": [
    "df1.dtypes"
   ]
  },
  {
   "cell_type": "code",
   "execution_count": 5,
   "id": "b18254cf-18e7-4abe-964e-48c19c4887c4",
   "metadata": {},
   "outputs": [
    {
     "data": {
      "text/plain": [
       "United Kingdom    495478\n",
       "Germany             9495\n",
       "France              8557\n",
       "EIRE                8196\n",
       "Spain               2533\n",
       "Name: Country, dtype: int64"
      ]
     },
     "execution_count": 5,
     "metadata": {},
     "output_type": "execute_result"
    }
   ],
   "source": [
    "df1[\"Country\"].value_counts().head()"
   ]
  },
  {
   "cell_type": "code",
   "execution_count": 6,
   "id": "7222bc38-eac6-47eb-8bfd-6aecb46e83a0",
   "metadata": {},
   "outputs": [],
   "source": [
    "# Since the UK is by far the most common country, we'll be working only with UK customers for now\n",
    "df1 = df1.copy()[df1[\"Country\"] == \"United Kingdom\"]"
   ]
  },
  {
   "cell_type": "code",
   "execution_count": 7,
   "id": "a62dc857-4726-406a-8d95-8e4851fbecce",
   "metadata": {},
   "outputs": [],
   "source": [
    "# We'll filter out customers with a negative quantity of purchase\n",
    "df1 = df1[df1[\"Quantity\"] > 0]"
   ]
  },
  {
   "cell_type": "code",
   "execution_count": 8,
   "id": "075463e2-3ef8-434b-aa85-b2ef11db97f9",
   "metadata": {},
   "outputs": [],
   "source": [
    "# Filtering any order without a customer ID\n",
    "df1 = df1.dropna(axis=\"index\", subset=[\"CustomerID\"])"
   ]
  },
  {
   "cell_type": "code",
   "execution_count": 9,
   "id": "debff558-3b60-45db-b31c-e4c436668779",
   "metadata": {},
   "outputs": [],
   "source": [
    "# Drop columns that won't be used in this analysis.\n",
    "df1 = df1.drop(columns=[\"Description\", \"StockCode\", \"Country\"])"
   ]
  },
  {
   "cell_type": "code",
   "execution_count": 10,
   "id": "673a29db-8a84-4154-ae91-4b7d113fdfb5",
   "metadata": {},
   "outputs": [],
   "source": [
    "df1[\"InvoiceNo\"] = df1[\"InvoiceNo\"].astype(int)\n",
    "df1[\"InvoiceDate\"] = df1[\"InvoiceDate\"].astype(\"datetime64\")\n",
    "df1[\"UnitPrice\"] = df1[\"UnitPrice\"].str.replace(pat=\",\", repl=\"\") # Remove the thousands separator\n",
    "df1[\"UnitPrice\"] = df1[\"UnitPrice\"].astype(float)\n",
    "df1[\"CustomerID\"] = df1[\"CustomerID\"].astype(int)"
   ]
  },
  {
   "cell_type": "code",
   "execution_count": 11,
   "id": "84c2f67a-02d5-4544-9328-4df26b61f73e",
   "metadata": {},
   "outputs": [
    {
     "data": {
      "text/plain": [
       "InvoiceNo               int64\n",
       "Quantity                int64\n",
       "InvoiceDate    datetime64[ns]\n",
       "UnitPrice             float64\n",
       "CustomerID              int64\n",
       "dtype: object"
      ]
     },
     "execution_count": 11,
     "metadata": {},
     "output_type": "execute_result"
    }
   ],
   "source": [
    "df1.dtypes"
   ]
  },
  {
   "cell_type": "markdown",
   "id": "f8e7af64-db64-4df1-b491-43ce25344b0b",
   "metadata": {},
   "source": [
    "# Exploratory Data Analysis"
   ]
  },
  {
   "cell_type": "code",
   "execution_count": 12,
   "id": "35c9f8fa-213b-4235-82dc-f3ca0a2308dc",
   "metadata": {},
   "outputs": [
    {
     "data": {
      "text/html": [
       "<div>\n",
       "<style scoped>\n",
       "    .dataframe tbody tr th:only-of-type {\n",
       "        vertical-align: middle;\n",
       "    }\n",
       "\n",
       "    .dataframe tbody tr th {\n",
       "        vertical-align: top;\n",
       "    }\n",
       "\n",
       "    .dataframe thead th {\n",
       "        text-align: right;\n",
       "    }\n",
       "</style>\n",
       "<table border=\"1\" class=\"dataframe\">\n",
       "  <thead>\n",
       "    <tr style=\"text-align: right;\">\n",
       "      <th></th>\n",
       "      <th>InvoiceNo</th>\n",
       "      <th>Quantity</th>\n",
       "      <th>UnitPrice</th>\n",
       "      <th>CustomerID</th>\n",
       "    </tr>\n",
       "  </thead>\n",
       "  <tbody>\n",
       "    <tr>\n",
       "      <th>count</th>\n",
       "      <td>354345.000000</td>\n",
       "      <td>354345.000000</td>\n",
       "      <td>354345.000000</td>\n",
       "      <td>354345.000000</td>\n",
       "    </tr>\n",
       "    <tr>\n",
       "      <th>mean</th>\n",
       "      <td>560672.612341</td>\n",
       "      <td>12.048913</td>\n",
       "      <td>2.963793</td>\n",
       "      <td>15552.436219</td>\n",
       "    </tr>\n",
       "    <tr>\n",
       "      <th>std</th>\n",
       "      <td>13168.988616</td>\n",
       "      <td>190.428127</td>\n",
       "      <td>17.862067</td>\n",
       "      <td>1594.546025</td>\n",
       "    </tr>\n",
       "    <tr>\n",
       "      <th>min</th>\n",
       "      <td>536365.000000</td>\n",
       "      <td>1.000000</td>\n",
       "      <td>0.000000</td>\n",
       "      <td>12346.000000</td>\n",
       "    </tr>\n",
       "    <tr>\n",
       "      <th>25%</th>\n",
       "      <td>549241.000000</td>\n",
       "      <td>2.000000</td>\n",
       "      <td>1.250000</td>\n",
       "      <td>14194.000000</td>\n",
       "    </tr>\n",
       "    <tr>\n",
       "      <th>50%</th>\n",
       "      <td>561900.000000</td>\n",
       "      <td>4.000000</td>\n",
       "      <td>1.950000</td>\n",
       "      <td>15522.000000</td>\n",
       "    </tr>\n",
       "    <tr>\n",
       "      <th>75%</th>\n",
       "      <td>572295.000000</td>\n",
       "      <td>12.000000</td>\n",
       "      <td>3.750000</td>\n",
       "      <td>16931.000000</td>\n",
       "    </tr>\n",
       "    <tr>\n",
       "      <th>max</th>\n",
       "      <td>581586.000000</td>\n",
       "      <td>80995.000000</td>\n",
       "      <td>8142.750000</td>\n",
       "      <td>18287.000000</td>\n",
       "    </tr>\n",
       "  </tbody>\n",
       "</table>\n",
       "</div>"
      ],
      "text/plain": [
       "           InvoiceNo       Quantity      UnitPrice     CustomerID\n",
       "count  354345.000000  354345.000000  354345.000000  354345.000000\n",
       "mean   560672.612341      12.048913       2.963793   15552.436219\n",
       "std     13168.988616     190.428127      17.862067    1594.546025\n",
       "min    536365.000000       1.000000       0.000000   12346.000000\n",
       "25%    549241.000000       2.000000       1.250000   14194.000000\n",
       "50%    561900.000000       4.000000       1.950000   15522.000000\n",
       "75%    572295.000000      12.000000       3.750000   16931.000000\n",
       "max    581586.000000   80995.000000    8142.750000   18287.000000"
      ]
     },
     "execution_count": 12,
     "metadata": {},
     "output_type": "execute_result"
    }
   ],
   "source": [
    "df1.describe()"
   ]
  },
  {
   "cell_type": "code",
   "execution_count": 13,
   "id": "8cbec448-6aa0-4ae1-bc39-2c7d76d6e11e",
   "metadata": {},
   "outputs": [
    {
     "data": {
      "image/png": "[encoded data removed]",
      "text/plain": [
       "<Figure size 432x288 with 1 Axes>"
      ]
     },
     "metadata": {
      "needs_background": "light"
     },
     "output_type": "display_data"
    }
   ],
   "source": [
    "plt.hist(df1[\"UnitPrice\"][ df1[\"UnitPrice\"] < 20 ]);"
   ]
  },
  {
   "cell_type": "code",
   "execution_count": 14,
   "id": "4d532d79-5b0f-41f5-a6d4-f317a2966e49",
   "metadata": {},
   "outputs": [
    {
     "name": "stdout",
     "output_type": "stream",
     "text": [
      "353678 out of 354345 purchases were under $20, or 99.81% of the total.\n"
     ]
    }
   ],
   "source": [
    "count1 = df1[\"InvoiceNo\"][df1[\"UnitPrice\"] < 20].count()\n",
    "count2 = df1[\"InvoiceNo\"].count()\n",
    "print(f\"{count1} out of {count2} purchases were under $20, or {count1/count2:.2%} of the total.\")"
   ]
  },
  {
   "cell_type": "markdown",
   "id": "84240f5b-0ee3-4dd8-8695-5c78199afeca",
   "metadata": {},
   "source": [
    "The vast majority of the purchases made on this database were of small value, as seen on the histogram."
   ]
  },
  {
   "cell_type": "code",
   "execution_count": 15,
   "id": "0cda7184-76d7-4e0e-b219-f86cd425fd20",
   "metadata": {},
   "outputs": [
    {
     "data": {
      "text/plain": [
       "41.0"
      ]
     },
     "execution_count": 15,
     "metadata": {},
     "output_type": "execute_result"
    }
   ],
   "source": [
    "df1[\"CustomerID\"].value_counts().median()"
   ]
  },
  {
   "cell_type": "code",
   "execution_count": 16,
   "id": "1f807919-1988-4e16-96df-f1e431e9cccb",
   "metadata": {},
   "outputs": [
    {
     "name": "stdout",
     "output_type": "stream",
     "text": [
      "1713 out of 3921 customers made more than 50 purchases, or 43.69% of the total.\n"
     ]
    }
   ],
   "source": [
    "count1 = (df1[\"CustomerID\"].value_counts()>50).sum()\n",
    "count2 = df1[\"CustomerID\"].nunique()\n",
    "print(f\"{count1} out of {count2} customers made more than 50 purchases, or {count1/count2:.2%} of the total.\")"
   ]
  },
  {
   "cell_type": "markdown",
   "id": "1345f71a-471a-4c24-8a83-175560a1235d",
   "metadata": {},
   "source": [
    "In contrast, there's a a more even distribution of number of purchases, with many customers having made over 50 purchases in total."
   ]
  },
  {
   "cell_type": "markdown",
   "id": "99c4ec0f-fabe-460e-ab50-ae9e912038b4",
   "metadata": {},
   "source": [
    "# Feature Engineering"
   ]
  },
  {
   "cell_type": "markdown",
   "id": "e0026d9a-f4f0-49be-805a-2b4bebc0a255",
   "metadata": {},
   "source": [
    "We'll create a new dataframe where each row represents a customer."
   ]
  },
  {
   "cell_type": "code",
   "execution_count": 17,
   "id": "33f48f3d-dfa1-4f24-a572-631a39e3ddbd",
   "metadata": {},
   "outputs": [],
   "source": [
    "df2 = pd.DataFrame(df1[\"CustomerID\"].unique(), columns=[\"CustomerID\"])"
   ]
  },
  {
   "cell_type": "markdown",
   "id": "4fe363eb-f2db-4882-b7e3-481623b910af",
   "metadata": {},
   "source": [
    "The first feature we'll introduce is the *Total Revenue*, the sum of all the purchases the customer made so far. "
   ]
  },
  {
   "cell_type": "code",
   "execution_count": 18,
   "id": "f9cb0e32-723c-4bb2-9e58-96a88e9dec74",
   "metadata": {},
   "outputs": [],
   "source": [
    "# First, we sum the amount of money spent on each purchase\n",
    "df1[\"Subtotal\"] = df1[\"Quantity\"] * df1[\"UnitPrice\"]\n",
    "# Then we group the purchases from each customer and add it to the customer dataframe\n",
    "aux = df1[[\"CustomerID\", \"Subtotal\"]].groupby(\"CustomerID\").sum().reset_index()\n",
    "aux.columns=[\"CustomerID\",\"TotalRevenue\"]\n",
    "if \"TotalRevenue\" in df2.columns:\n",
    "    df2 = df2.drop(columns=[\"TotalRevenue\"]) # In case there's already a column with that name, to avoid duplocation\n",
    "df2 = pd.merge(df2, aux, on=\"CustomerID\", how=\"left\")"
   ]
  },
  {
   "cell_type": "markdown",
   "id": "d02beea5-1f1e-449c-abaf-550ae64a5eeb",
   "metadata": {},
   "source": [
    "Another feature will be *Recency*, that is, the time since the last purchase."
   ]
  },
  {
   "cell_type": "code",
   "execution_count": 19,
   "id": "4264b056-f7c3-44e3-8bc7-eea71c24bb3e",
   "metadata": {},
   "outputs": [],
   "source": [
    "# First, we'll use the last invoice date as the current time\n",
    "curr_time = df1[\"InvoiceDate\"].max()\n",
    "df1[\"Recency\"] = (curr_time - df1[\"InvoiceDate\"]).dt.days\n",
    "# Then the data for each customer is added to the dataframe\n",
    "aux = df1[[\"Recency\", \"CustomerID\"]].groupby(\"CustomerID\").min().reset_index()\n",
    "if \"Recency\" in df2.columns:\n",
    "    df2 = df2.drop(columns=[\"Recency\"]) # In case there's already a column with that name, to avoid duplocation\n",
    "df2 = pd.merge(df2, aux, on=\"CustomerID\", how=\"left\")"
   ]
  },
  {
   "cell_type": "markdown",
   "id": "59316276-363e-4bcb-b37b-e3234d712f52",
   "metadata": {},
   "source": [
    "Finally, *Frequency* will be the total amount of purchases the customer made during the recorded period."
   ]
  },
  {
   "cell_type": "code",
   "execution_count": 23,
   "id": "245dd4b9-37e5-49f4-8a24-046c54385b25",
   "metadata": {},
   "outputs": [],
   "source": [
    "aux = df1[[\"CustomerID\", \"InvoiceNo\"]].groupby(\"CustomerID\").nunique().reset_index()\n",
    "aux.columns = [\"CustomerID\", \"Frequency\"]\n",
    "if \"Frequency\" in df2.columns:\n",
    "    df2 = df2.drop(columns=[\"Frequency\"]) # In case there's already a column with that name, to avoid duplocation\n",
    "df2 = pd.merge(df2, aux, on=\"CustomerID\", how=\"left\")"
   ]
  },
  {
   "cell_type": "markdown",
   "id": "b5798d46-6d1e-48b3-861f-998942255a7e",
   "metadata": {},
   "source": [
    "We will use those features for now. The shape of the data can be visualized, so that we can see if it needs to be scaled or remapped."
   ]
  },
  {
   "cell_type": "code",
   "execution_count": 38,
   "id": "f96c1713-35f2-47b4-958e-27d9a055bc0f",
   "metadata": {},
   "outputs": [
    {
     "data": {
      "text/plain": [
       "<AxesSubplot:xlabel='Frequency', ylabel='Count'>"
      ]
     },
     "execution_count": 38,
     "metadata": {},
     "output_type": "execute_result"
    },
    {
     "data": {
      "image/png": "[encoded data removed]",
      "text/plain": [
       "<Figure size 1296x360 with 3 Axes>"
      ]
     },
     "metadata": {},
     "output_type": "display_data"
    }
   ],
   "source": [
    "fig, ax = plt.subplots(figsize=(18,5))\n",
    "ax1 = plt.subplot(1,3,1)\n",
    "sns.histplot(df2[\"TotalRevenue\"], binwidth=10000, ax=ax1)\n",
    "ax2 = plt.subplot(1,3,2)\n",
    "sns.histplot(df2[\"Recency\"], ax=ax2)\n",
    "ax3 = plt.subplot(1,3,3)\n",
    "sns.histplot(df2[\"Frequency\"], ax=ax3)"
   ]
  },
  {
   "cell_type": "code",
   "execution_count": null,
   "id": "75b44f5d-430a-4dd1-948b-3d64a0b9ea89",
   "metadata": {},
   "outputs": [],
   "source": []
  }
 ],
 "metadata": {
  "kernelspec": {
   "display_name": "Python 3 (ipykernel)",
   "language": "python",
   "name": "python3"
  },
  "language_info": {
   "codemirror_mode": {
    "name": "ipython",
    "version": 3
   },
   "file_extension": ".py",
   "mimetype": "text/x-python",
   "name": "python",
   "nbconvert_exporter": "python",
   "pygments_lexer": "ipython3",
   "version": "3.9.7"
  }
 },
 "nbformat": 4,
 "nbformat_minor": 5
}
